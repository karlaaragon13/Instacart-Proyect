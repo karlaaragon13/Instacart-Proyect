{
 "cells": [
  {
   "cell_type": "markdown",
   "id": "mhIvmmkW414q",
   "metadata": {
    "id": "mhIvmmkW414q"
   },
   "source": [
    "# Instacart\n",
    "\n",
    "Instacart es una plataforma de entregas de comestibles donde la clientela puede registrar un pedido y hacer que se lo entreguen, similar a Uber Eats y Door Dash.\n",
    "El conjunto de datos que te hemos proporcionado tiene modificaciones del original. Redujimos el tamaño del conjunto para que tus cálculos se hicieran más rápido e introdujimos valores ausentes y duplicados. Tuvimos cuidado de conservar las distribuciones de los datos originales cuando hicimos los cambios."
   ]
  },
  {
   "cell_type": "markdown",
   "id": "3MbyzpOQZ5Or",
   "metadata": {
    "id": "3MbyzpOQZ5Or"
   },
   "source": [
    "## Diccionario de datos\n",
    "\n",
    "Hay cinco tablas en el conjunto de datos, y tendrás que usarlas todas para hacer el preprocesamiento de datos y el análisis exploratorio de datos. A continuación se muestra un diccionario de datos que enumera las columnas de cada tabla y describe los datos que contienen.\n",
    "\n",
    "- `instacart_orders.csv`: cada fila corresponde a un pedido en la aplicación Instacart.\n",
    "    - `'order_id'`: número de ID que identifica de manera única cada pedido.\n",
    "    - `'user_id'`: número de ID que identifica de manera única la cuenta de cada cliente.\n",
    "    - `'order_number'`: el número de veces que este cliente ha hecho un pedido.\n",
    "    - `'order_dow'`: día de la semana en que se hizo el pedido (0 si es domingo).\n",
    "    - `'order_hour_of_day'`: hora del día en que se hizo el pedido.\n",
    "    - `'days_since_prior_order'`: número de días transcurridos desde que este cliente hizo su pedido anterior.\n",
    "- `products.csv`: cada fila corresponde a un producto único que pueden comprar los clientes.\n",
    "    - `'product_id'`: número ID que identifica de manera única cada producto.\n",
    "    - `'product_name'`: nombre del producto.\n",
    "    - `'aisle_id'`: número ID que identifica de manera única cada categoría de pasillo de víveres.\n",
    "    - `'department_id'`: número ID que identifica de manera única cada departamento de víveres.\n",
    "- `order_products.csv`: cada fila corresponde a un artículo pedido en un pedido.\n",
    "    - `'order_id'`: número de ID que identifica de manera única cada pedido.\n",
    "    - `'product_id'`: número ID que identifica de manera única cada producto.\n",
    "    - `'add_to_cart_order'`: el orden secuencial en el que se añadió cada artículo en el carrito.\n",
    "    - `'reordered'`: 0 si el cliente nunca ha pedido este producto antes, 1 si lo ha pedido.\n",
    "- `aisles.csv`\n",
    "    - `'aisle_id'`: número ID que identifica de manera única cada categoría de pasillo de víveres.\n",
    "    - `'aisle'`: nombre del pasillo.\n",
    "- `departments.csv`\n",
    "    - `'department_id'`: número ID que identifica de manera única cada departamento de víveres.\n",
    "    - `'department'`: nombre del departamento."
   ]
  },
  {
   "cell_type": "markdown",
   "id": "n3Ha_cNSZ8lK",
   "metadata": {
    "id": "n3Ha_cNSZ8lK"
   },
   "source": [
    "## 1. Descripción de los datos\n"
   ]
  },
  {
   "cell_type": "code",
   "execution_count": 1,
   "id": "fbf1adab",
   "metadata": {
    "id": "fbf1adab",
    "trusted": false
   },
   "outputs": [],
   "source": [
    "# importar librerías\n",
    "import pandas as pd\n",
    "from matplotlib import pyplot as plt"
   ]
  },
  {
   "cell_type": "code",
   "execution_count": 2,
   "id": "ad36396d",
   "metadata": {
    "id": "ad36396d",
    "trusted": false
   },
   "outputs": [],
   "source": [
    "# leer conjuntos de datos en los DataFrames\n",
    "instacart_orders = pd.read_csv('/datasets/instacart_orders.csv',\n",
    "                              sep=';')\n",
    "products = pd.read_csv('/datasets/products.csv',\n",
    "                      sep=';')\n",
    "order_products = pd.read_csv('/datasets/order_products.csv',\n",
    "                            sep=';')\n",
    "aisles = pd.read_csv('/datasets/aisles.csv',\n",
    "                    sep=';')\n",
    "departments = pd.read_csv('/datasets/departments.csv',\n",
    "                         sep=';')"
   ]
  },
  {
   "cell_type": "code",
   "execution_count": 3,
   "id": "ad6a1efa",
   "metadata": {
    "id": "ad6a1efa",
    "scrolled": true,
    "trusted": false
   },
   "outputs": [
    {
     "name": "stdout",
     "output_type": "stream",
     "text": [
      "<class 'pandas.core.frame.DataFrame'>\n",
      "RangeIndex: 478967 entries, 0 to 478966\n",
      "Data columns (total 6 columns):\n",
      " #   Column                  Non-Null Count   Dtype  \n",
      "---  ------                  --------------   -----  \n",
      " 0   order_id                478967 non-null  int64  \n",
      " 1   user_id                 478967 non-null  int64  \n",
      " 2   order_number            478967 non-null  int64  \n",
      " 3   order_dow               478967 non-null  int64  \n",
      " 4   order_hour_of_day       478967 non-null  int64  \n",
      " 5   days_since_prior_order  450148 non-null  float64\n",
      "dtypes: float64(1), int64(5)\n",
      "memory usage: 21.9 MB\n"
     ]
    }
   ],
   "source": [
    "# mostrar información del DataFrame: Instancart Orders\n",
    "instacart_orders.info()"
   ]
  },
  {
   "cell_type": "code",
   "execution_count": 4,
   "id": "5130e05e",
   "metadata": {
    "id": "5130e05e",
    "trusted": false
   },
   "outputs": [
    {
     "name": "stdout",
     "output_type": "stream",
     "text": [
      "<class 'pandas.core.frame.DataFrame'>\n",
      "RangeIndex: 49694 entries, 0 to 49693\n",
      "Data columns (total 4 columns):\n",
      " #   Column         Non-Null Count  Dtype \n",
      "---  ------         --------------  ----- \n",
      " 0   product_id     49694 non-null  int64 \n",
      " 1   product_name   48436 non-null  object\n",
      " 2   aisle_id       49694 non-null  int64 \n",
      " 3   department_id  49694 non-null  int64 \n",
      "dtypes: int64(3), object(1)\n",
      "memory usage: 1.5+ MB\n"
     ]
    }
   ],
   "source": [
    "# mostrar información del DataFrame: Products\n",
    "products.info()"
   ]
  },
  {
   "cell_type": "code",
   "execution_count": 5,
   "id": "d8370c05",
   "metadata": {
    "id": "d8370c05",
    "scrolled": true,
    "trusted": false
   },
   "outputs": [
    {
     "name": "stdout",
     "output_type": "stream",
     "text": [
      "<class 'pandas.core.frame.DataFrame'>\n",
      "RangeIndex: 4545007 entries, 0 to 4545006\n",
      "Data columns (total 4 columns):\n",
      " #   Column             Non-Null Count    Dtype  \n",
      "---  ------             --------------    -----  \n",
      " 0   order_id           4545007 non-null  int64  \n",
      " 1   product_id         4545007 non-null  int64  \n",
      " 2   add_to_cart_order  4544171 non-null  float64\n",
      " 3   reordered          4545007 non-null  int64  \n",
      "dtypes: float64(1), int64(3)\n",
      "memory usage: 138.7 MB\n"
     ]
    }
   ],
   "source": [
    "# mostrar información del DataFrame: Order Products\n",
    "order_products.info(show_counts=True)"
   ]
  },
  {
   "cell_type": "code",
   "execution_count": 6,
   "id": "59e2090f",
   "metadata": {
    "id": "59e2090f",
    "trusted": false
   },
   "outputs": [
    {
     "name": "stdout",
     "output_type": "stream",
     "text": [
      "<class 'pandas.core.frame.DataFrame'>\n",
      "RangeIndex: 134 entries, 0 to 133\n",
      "Data columns (total 2 columns):\n",
      " #   Column    Non-Null Count  Dtype \n",
      "---  ------    --------------  ----- \n",
      " 0   aisle_id  134 non-null    int64 \n",
      " 1   aisle     134 non-null    object\n",
      "dtypes: int64(1), object(1)\n",
      "memory usage: 2.2+ KB\n"
     ]
    }
   ],
   "source": [
    "# mostrar información del DataFrame: Aisles\n",
    "aisles.info()"
   ]
  },
  {
   "cell_type": "code",
   "execution_count": 7,
   "id": "6fc81694",
   "metadata": {
    "id": "6fc81694",
    "trusted": false
   },
   "outputs": [
    {
     "name": "stdout",
     "output_type": "stream",
     "text": [
      "<class 'pandas.core.frame.DataFrame'>\n",
      "RangeIndex: 21 entries, 0 to 20\n",
      "Data columns (total 2 columns):\n",
      " #   Column         Non-Null Count  Dtype \n",
      "---  ------         --------------  ----- \n",
      " 0   department_id  21 non-null     int64 \n",
      " 1   department     21 non-null     object\n",
      "dtypes: int64(1), object(1)\n",
      "memory usage: 464.0+ bytes\n"
     ]
    }
   ],
   "source": [
    "# mostrar información del DataFrame: Departments\n",
    "departments.info()"
   ]
  },
  {
   "cell_type": "markdown",
   "id": "t75BD19oaR5f",
   "metadata": {
    "id": "t75BD19oaR5f"
   },
   "source": [
    "\n",
    "`Hasta donde va este análisis se puede notar que los 5 DataFrames venían de origen con un separador distinto al más común \";\" por lo que te tuvo que realizar un ajuste para que pandas lo pudiera leer sin ningún problema. También a simple vista se puede percatar que el DataFrame con más valores no nulos es 'order_products' con un máximo de 4.5 millones lo que nos puede indicar que cada pedido realizado contiene varios productos. Así como también 'instacart_orders' tiene cerca de 479,000 pedidos, lo que nos  podría dar una referencia de la cantidad de clientes y su comportamiento de compra. Los 3 DataFrames sobrantes ('products', 'aisles', 'departments') contienen información clave para categorizar los productos vendidos en la plataforma.`\n",
    "\n",
    "`Todas las columnas están correctamente tipificadas, con valores numéricos para identificadores y categorizaciones, y valores de texto en nombres de productos, pasillos y departamentos.`\n"
   ]
  },
  {
   "cell_type": "markdown",
   "id": "8RJHqxVmaVsF",
   "metadata": {
    "id": "8RJHqxVmaVsF"
   },
   "source": [
    "## 2. Preprocesamiento de los datos\n"
   ]
  },
  {
   "cell_type": "markdown",
   "id": "p6poABZQaZYb",
   "metadata": {
    "id": "p6poABZQaZYb"
   },
   "source": [
    "\n",
    "`En el preprocesamiento de los datos, vamos a corregir los tipos de datos para garantizar que los ID sean enteros, manejaremos los valores ausentes con valores adecuados o eliminando registros si es necesario, y eliminaremos duplicados para evitar inconsistencias en el análisis. Analizaremos el origen de estos problemas, considerando errores de captura o integración de datos, asegurando así que el conjunto de datos sea confiable y listo para el análisis exploratorio.`"
   ]
  },
  {
   "cell_type": "markdown",
   "id": "f179f0a9",
   "metadata": {
    "id": "f179f0a9"
   },
   "source": [
    "### `orders` data frame"
   ]
  },
  {
   "cell_type": "code",
   "execution_count": 8,
   "id": "b99297a5-405a-463d-8535-9adc3da4ad74",
   "metadata": {
    "id": "b99297a5-405a-463d-8535-9adc3da4ad74",
    "trusted": false
   },
   "outputs": [
    {
     "name": "stdout",
     "output_type": "stream",
     "text": [
      "Número de pedidos duplicados (Inicio): 15\n",
      "        order_id  user_id  order_number  order_dow  order_hour_of_day  \\\n",
      "145574    794638    50898            24          3                  2   \n",
      "223105   2160484   107525            16          3                  2   \n",
      "230807   1918001   188546            14          3                  2   \n",
      "266232   1782114   106752             1          3                  2   \n",
      "273805   1112182   202304            84          3                  2   \n",
      "284038   2845099    31189            11          3                  2   \n",
      "311713   1021560    53767             3          3                  2   \n",
      "321100    408114    68324             4          3                  2   \n",
      "323900   1919531   191501            32          3                  2   \n",
      "345917   2232988    82565             1          3                  2   \n",
      "371905    391768    57671            19          3                  2   \n",
      "394347    467134    63189            21          3                  2   \n",
      "411408   1286742   183220            48          3                  2   \n",
      "415163   2282673    86751            49          3                  2   \n",
      "441599   2125197    14050            48          3                  2   \n",
      "\n",
      "        days_since_prior_order  \n",
      "145574                     2.0  \n",
      "223105                    30.0  \n",
      "230807                    16.0  \n",
      "266232                     NaN  \n",
      "273805                     6.0  \n",
      "284038                     7.0  \n",
      "311713                     9.0  \n",
      "321100                    18.0  \n",
      "323900                     7.0  \n",
      "345917                     NaN  \n",
      "371905                    10.0  \n",
      "394347                     2.0  \n",
      "411408                     4.0  \n",
      "415163                     2.0  \n",
      "441599                     3.0  \n"
     ]
    }
   ],
   "source": [
    "# Revisa si hay pedidos duplicados\n",
    "duplicated_orders = instacart_orders[instacart_orders.duplicated()]\n",
    "print('Número de pedidos duplicados (Inicio):',instacart_orders.duplicated().sum())\n",
    "print(duplicated_orders)"
   ]
  },
  {
   "cell_type": "code",
   "execution_count": 9,
   "id": "0d44de5d",
   "metadata": {
    "id": "0d44de5d",
    "trusted": false
   },
   "outputs": [
    {
     "name": "stdout",
     "output_type": "stream",
     "text": [
      "El número  de pedidos que se hicieron el día miércoles a las 2:00 am: 121\n"
     ]
    }
   ],
   "source": [
    "# Basándote en tus hallazgos,\n",
    "# Verifica todos los pedidos que se hicieron el miércoles a las 2:00 a.m.\n",
    "\n",
    "wed_insta_orders = instacart_orders[\n",
    "    (instacart_orders['order_dow'] == 3) &\n",
    "    (instacart_orders['order_hour_of_day'] == 2)\n",
    "]\n",
    "\n",
    "print('El número  de pedidos que se hicieron el día miércoles a las 2:00 am:', len(wed_insta_orders))"
   ]
  },
  {
   "cell_type": "code",
   "execution_count": 10,
   "id": "480563c7",
   "metadata": {
    "id": "480563c7",
    "trusted": false
   },
   "outputs": [],
   "source": [
    "# Elimina los pedidos duplicados\n",
    "instacart_orders = instacart_orders.drop_duplicates().reset_index(drop=True)"
   ]
  },
  {
   "cell_type": "code",
   "execution_count": 11,
   "id": "0b2396a2",
   "metadata": {
    "id": "0b2396a2",
    "trusted": false
   },
   "outputs": [
    {
     "name": "stdout",
     "output_type": "stream",
     "text": [
      "Número de pedidos duplicados (Final): 0\n"
     ]
    }
   ],
   "source": [
    "# Vuelve a verificar si hay filas duplicadas\n",
    "print('Número de pedidos duplicados (Final):',instacart_orders.duplicated().sum())"
   ]
  },
  {
   "cell_type": "code",
   "execution_count": 12,
   "id": "f6113ef1",
   "metadata": {
    "id": "f6113ef1",
    "trusted": false
   },
   "outputs": [
    {
     "name": "stdout",
     "output_type": "stream",
     "text": [
      "Número de IDs de pedidos duplicados: 0\n"
     ]
    }
   ],
   "source": [
    "# Vuelve a verificar únicamente si hay IDs duplicados de pedidos\n",
    "print('Número de IDs de pedidos duplicados:',instacart_orders['order_id'].duplicated().sum())"
   ]
  },
  {
   "cell_type": "markdown",
   "id": "5e8905ae",
   "metadata": {
    "id": "5e8905ae"
   },
   "source": [
    "\n",
    "`Al detectar que había 15 de un total de 121 de pedidos duplicados, consideré correcto eliminar dichos valores; por lo que eso fue el primer ajuste que se le realizo al DataFrame 'instacart_orders'. Se verificó que el número de pedidos duplicados sea efectivamente 0, así como también que el número de IDs de pedidos sea 0 también. `"
   ]
  },
  {
   "cell_type": "markdown",
   "id": "45e6bc46",
   "metadata": {
    "id": "45e6bc46"
   },
   "source": [
    "### `products` data frame"
   ]
  },
  {
   "cell_type": "code",
   "execution_count": 13,
   "id": "5f526b5b-8175-46fa-a0fd-441767d50e64",
   "metadata": {
    "id": "5f526b5b-8175-46fa-a0fd-441767d50e64",
    "trusted": false
   },
   "outputs": [
    {
     "name": "stdout",
     "output_type": "stream",
     "text": [
      "Número de filas duplicadas: 0\n"
     ]
    }
   ],
   "source": [
    "# Verifica si hay filas totalmente duplicadas\n",
    "print('Número de filas duplicadas:',products.duplicated().sum())"
   ]
  },
  {
   "cell_type": "code",
   "execution_count": 14,
   "id": "88daa4f4",
   "metadata": {
    "id": "88daa4f4",
    "trusted": false
   },
   "outputs": [
    {
     "name": "stdout",
     "output_type": "stream",
     "text": [
      "Número de IDs de departamentos duplicados: 49673\n"
     ]
    }
   ],
   "source": [
    "# Revisa únicamente si hay ID de departamentos duplicados\n",
    "print('Número de IDs de departamentos duplicados:',products['department_id'].duplicated().sum())"
   ]
  },
  {
   "cell_type": "code",
   "execution_count": 15,
   "id": "c773f0bf",
   "metadata": {
    "id": "c773f0bf",
    "trusted": false
   },
   "outputs": [
    {
     "name": "stdout",
     "output_type": "stream",
     "text": [
      "Número de nombres de productos duplicados (Inicio): 1361\n"
     ]
    }
   ],
   "source": [
    "# Revisa únicamente si hay nombres duplicados de productos (convierte los nombres a letras mayúsculas para compararlos mejor)\n",
    "print('Número de nombres de productos duplicados (Inicio):',products['product_name'].str.upper().duplicated().sum())"
   ]
  },
  {
   "cell_type": "code",
   "execution_count": 16,
   "id": "01efd02e",
   "metadata": {
    "id": "01efd02e",
    "trusted": false
   },
   "outputs": [
    {
     "name": "stdout",
     "output_type": "stream",
     "text": [
      "Número de nombres de productos duplicados (sin valores faltantes): 104\n"
     ]
    }
   ],
   "source": [
    "# Revisa si hay nombres duplicados de productos no faltantes\n",
    "\n",
    "# Filtrar productos con nombres no nulos\n",
    "products_non_null = products.dropna(subset=['product_name'])\n",
    "\n",
    "# Contar y mostrar los productos duplicados\n",
    "print('Número de nombres de productos duplicados (sin valores faltantes):', products_non_null['product_name'].str.upper().duplicated().sum())"
   ]
  },
  {
   "cell_type": "code",
   "execution_count": 17,
   "id": "896bf85e",
   "metadata": {
    "trusted": false
   },
   "outputs": [
    {
     "name": "stdout",
     "output_type": "stream",
     "text": [
      "Número de nombres de productos duplicados (Final): 0\n"
     ]
    }
   ],
   "source": [
    "# Eliminar espacios en blanco y convertir a mayúsculas para estandarizar \n",
    "products['product_name'] = products['product_name'].str.strip().str.upper()\n",
    "\n",
    "# Eliminar nombres duplicados de productos y mantener el primer registro\n",
    "products = products.drop_duplicates(subset=['product_name'], keep='first').reset_index(drop=True) \n",
    "\n",
    "# Revisar de nuevo si hay nombres duplicados de productos \n",
    "print('Número de nombres de productos duplicados (Final):', products['product_name'].duplicated().sum() )"
   ]
  },
  {
   "cell_type": "markdown",
   "id": "9da8d293",
   "metadata": {
    "id": "9da8d293"
   },
   "source": [
    "\n",
    "`Descripción breve de los hallazgos:`\n",
    "`Primero se verificó que no hubiera filas completamente duplicadas. Después se reviso unicamente la columna de los IDs de departamentos y se encontró 49,673 valores duplicados, lo que nos puede decir que casi todos los productos pertenecen a departamentos que se repiten varias veces. Se detectó la existencia de 1,361 nombres de productos duplicados (sin considerar mayúsculas o minúsculas), lo que puede sugerir que existen productos con nombres idénticos en diferentes departamentos o con variaciones mínimas. Para poder hacer un análsis más robusto, se eliminaron los valores nulos (NaN) y se revisó de nuevo los valores duplicados, lo que nos redujó la cifra a 104 valores. El hallazgo anterior nos puede indicar que hay inconsistencias en la nomenclatura o productos repetidos en diferentes categorías.`\n",
    "\n",
    "`Para poder resolver el tema con los duplicados se hizo una limpieza de dicha columna. Se eliminaron los posibles espacios en blanco antes y después del nombre; así como se convirtieron todos los nombres a mayúsculas para estandarizar la variable. Ya con este cambio, se eliminaron los nombres duplicados pero manteniendo el primer registro. Ahora ya no tenemos nombres duplicados de productos.`"
   ]
  },
  {
   "cell_type": "markdown",
   "id": "60f30db1",
   "metadata": {
    "id": "60f30db1"
   },
   "source": [
    "### `departments` data frame"
   ]
  },
  {
   "cell_type": "code",
   "execution_count": 18,
   "id": "fb410ad4-0fbf-4b80-bb09-23fdea79afe3",
   "metadata": {
    "id": "fb410ad4-0fbf-4b80-bb09-23fdea79afe3",
    "trusted": false
   },
   "outputs": [
    {
     "name": "stdout",
     "output_type": "stream",
     "text": [
      "Número de filas duplicadas: 0\n"
     ]
    }
   ],
   "source": [
    "# Revisa si hay filas totalmente duplicadas\n",
    "print('Número de filas duplicadas:', departments.duplicated().sum())"
   ]
  },
  {
   "cell_type": "code",
   "execution_count": 19,
   "id": "332b12bb",
   "metadata": {
    "id": "332b12bb",
    "trusted": false
   },
   "outputs": [
    {
     "name": "stdout",
     "output_type": "stream",
     "text": [
      "Número de IDs duplicados de productos: 0\n"
     ]
    }
   ],
   "source": [
    "# Revisa únicamente si hay IDs duplicadas de productos\n",
    "print('Número de IDs duplicados de productos:', departments['department_id'].duplicated().sum())"
   ]
  },
  {
   "cell_type": "markdown",
   "id": "bd30d78e",
   "metadata": {
    "id": "bd30d78e"
   },
   "source": [
    "\n",
    "`Así como para los DataFrames anteriores se verificó la existencia de filas y IDs duplicados para 'departments', pero se comprobó que no existen ni filas ni IDs duplicados, por lo que esta base está lista para el siguiente paso.`"
   ]
  },
  {
   "cell_type": "markdown",
   "id": "889349c1",
   "metadata": {
    "id": "889349c1"
   },
   "source": [
    "### `aisles` data frame"
   ]
  },
  {
   "cell_type": "code",
   "execution_count": 20,
   "id": "9da89fb9-4679-40f5-ad0d-c34df753a3f8",
   "metadata": {
    "id": "9da89fb9-4679-40f5-ad0d-c34df753a3f8",
    "trusted": false
   },
   "outputs": [
    {
     "name": "stdout",
     "output_type": "stream",
     "text": [
      "Número de filas duplicadas: 0\n"
     ]
    }
   ],
   "source": [
    "# Revisa si hay filas totalmente duplicadas\n",
    "print('Número de filas duplicadas:', aisles.duplicated().sum())"
   ]
  },
  {
   "cell_type": "code",
   "execution_count": 21,
   "id": "da7c2822",
   "metadata": {
    "id": "da7c2822",
    "trusted": false
   },
   "outputs": [
    {
     "name": "stdout",
     "output_type": "stream",
     "text": [
      "Número de filas duplicadas: 0\n"
     ]
    }
   ],
   "source": [
    "# Revisa únicamente si hay IDs duplicadas de pasillos\n",
    "print('Número de filas duplicadas:', aisles['aisle_id'].duplicated().sum())"
   ]
  },
  {
   "cell_type": "markdown",
   "id": "ac63826f",
   "metadata": {
    "id": "ac63826f"
   },
   "source": [
    "\n",
    "`Así como para los DataFrames anteriores se verificó la existencia de filas y IDs duplicados para 'aisles', pero se comprobó que no existen ni filas ni IDs duplicados, por lo que esta base está lista para el siguiente paso.`"
   ]
  },
  {
   "cell_type": "markdown",
   "id": "274cd06a",
   "metadata": {
    "id": "274cd06a"
   },
   "source": [
    "### `order_products` data frame"
   ]
  },
  {
   "cell_type": "code",
   "execution_count": 22,
   "id": "52326689-84a8-4b8f-a881-7c68780f62c9",
   "metadata": {
    "id": "52326689-84a8-4b8f-a881-7c68780f62c9",
    "trusted": false
   },
   "outputs": [
    {
     "name": "stdout",
     "output_type": "stream",
     "text": [
      "Número de filas duplicadas: 0\n"
     ]
    }
   ],
   "source": [
    "# Revisa si hay filas totalmente duplicadas\n",
    "print('Número de filas duplicadas:', order_products.duplicated().sum())"
   ]
  },
  {
   "cell_type": "code",
   "execution_count": 23,
   "id": "7b861391",
   "metadata": {
    "id": "7b861391",
    "trusted": false
   },
   "outputs": [
    {
     "name": "stdout",
     "output_type": "stream",
     "text": [
      "Número de IDs de ordenes duplicadas: 4094961\n",
      "Número de IDs de prductos duplicadas: 4499434\n"
     ]
    }
   ],
   "source": [
    "# Vuelve a verificar si hay cualquier otro duplicado engañoso\n",
    "print('Número de IDs de ordenes duplicadas:', order_products['order_id'].duplicated().sum())\n",
    "print('Número de IDs de prductos duplicadas:', order_products['product_id'].duplicated().sum())"
   ]
  },
  {
   "cell_type": "markdown",
   "id": "0b890492",
   "metadata": {
    "id": "0b890492"
   },
   "source": [
    "\n",
    "`Al revisar el DataFrame de order_products, no se encontraron filas completamente duplicadas. Sin embargo, se detectaron bastante repeticiones en los campos de order_id y product_id y se puede decir que es esperado este comportamiento de los datos ya que una ordén puede contener varios productos y, a su vez, un producto puede aparecer en múltiples órdenes. Así que no se realizó ningún tratamiento de datos a este DataFrame.`"
   ]
  },
  {
   "cell_type": "markdown",
   "id": "1e46de76",
   "metadata": {
    "id": "1e46de76"
   },
   "source": [
    "## Encuentra y elimina los valores ausentes\n",
    "\n"
   ]
  },
  {
   "cell_type": "markdown",
   "id": "c0aebd78",
   "metadata": {
    "id": "c0aebd78"
   },
   "source": [
    "### `products` data frame"
   ]
  },
  {
   "cell_type": "code",
   "execution_count": 24,
   "id": "fe4a8b0f",
   "metadata": {
    "id": "fe4a8b0f",
    "trusted": false
   },
   "outputs": [
    {
     "name": "stdout",
     "output_type": "stream",
     "text": [
      "Número de nombres de productos ausentes(Inicio): 1\n",
      "\n",
      "Único nombre de producto ausente:\n",
      "     product_id product_name  aisle_id  department_id\n",
      "37          38          NaN       100             21\n"
     ]
    }
   ],
   "source": [
    "# Encuentra los valores ausentes en la columna 'product_name'\n",
    "print('Número de nombres de productos ausentes(Inicio):',products['product_name'].isna().sum())\n",
    "print()\n",
    "print('Único nombre de producto ausente:\\n', products[products['product_name'].isna()])"
   ]
  },
  {
   "cell_type": "markdown",
   "id": "-A6x1AbJhjkp",
   "metadata": {
    "id": "-A6x1AbJhjkp"
   },
   "source": [
    "\n",
    "`Revisando la variable de product_name en el DataFrame products noté solo la presencia de un solo nombre ausente en el id del producto 38.`"
   ]
  },
  {
   "cell_type": "code",
   "execution_count": 25,
   "id": "e96167bc",
   "metadata": {
    "id": "e96167bc",
    "trusted": false
   },
   "outputs": [],
   "source": [
    "#  ¿Todos los nombres de productos ausentes están relacionados con el pasillo con ID 100?\n",
    "# Sí, el único nombre ausente está relacionada con el pasillo con ID de 100. "
   ]
  },
  {
   "cell_type": "markdown",
   "id": "WRpIfXRphpSL",
   "metadata": {
    "id": "WRpIfXRphpSL"
   },
   "source": [
    "\n",
    "`Como se puede observar el pasillo con ID de 100 coincide con nuestro nombre ausente, lo que puede sugerir es que dicho pasillo tenga un posible error o alguna inconsistencia en el registro de dicho pasillo.` "
   ]
  },
  {
   "cell_type": "code",
   "execution_count": 26,
   "id": "8fd0a541",
   "metadata": {
    "id": "8fd0a541",
    "trusted": false
   },
   "outputs": [],
   "source": [
    "# ¿Todos los nombres de productos ausentes están relacionados con el departamento con ID 21?\n",
    "# Sí, el único nombre ausente está relacionada con el departamento con ID 21. "
   ]
  },
  {
   "cell_type": "markdown",
   "id": "qDpdYn1Fht_I",
   "metadata": {
    "id": "qDpdYn1Fht_I"
   },
   "source": [
    "\n",
    "`De igual manera se observa que coincide el departamento con ID 21 con nuestra búsqueda. Lo que nos puede sugerir es que este departamento tiene algún problema en la entrada de datos o que faltó registrar correctamente un producto.`"
   ]
  },
  {
   "cell_type": "code",
   "execution_count": 27,
   "id": "325c3464",
   "metadata": {
    "id": "325c3464",
    "trusted": false
   },
   "outputs": [
    {
     "name": "stdout",
     "output_type": "stream",
     "text": [
      "Nombre de pasillo con ID 100: missing\n",
      "\n",
      "Nombre del departamento con ID 21: missing\n"
     ]
    }
   ],
   "source": [
    "# Usa las tablas department y aisle para revisar los datos del pasillo con ID 100 y el departamento con ID 21.\n",
    "print('Nombre de pasillo con ID 100:', aisles[aisles['aisle_id']==100]['aisle'].values[0])\n",
    "print()\n",
    "print('Nombre del departamento con ID 21:', departments[departments['department_id']==21]['department'].values[0])"
   ]
  },
  {
   "cell_type": "markdown",
   "id": "nqhSTUPhhvEJ",
   "metadata": {
    "id": "nqhSTUPhhvEJ"
   },
   "source": [
    "\n",
    "`Consultando las tablas de referencia, encontré que el pasillo 100 es \"missing\" y el departamento 21 es \"missing\", lo cual sugiere que estos valores fueron reservados para productos incompletos o registros que no se pudieron categorizar adecuadamente.`"
   ]
  },
  {
   "cell_type": "code",
   "execution_count": 28,
   "id": "6b295120",
   "metadata": {
    "id": "6b295120",
    "trusted": false
   },
   "outputs": [
    {
     "name": "stdout",
     "output_type": "stream",
     "text": [
      "Número de nombres de productos ausentes(Final): 0\n"
     ]
    }
   ],
   "source": [
    "# Completa los nombres de productos ausentes con 'Unknown'\n",
    "products['product_name'].fillna('Unkown', inplace=True)\n",
    "print('Número de nombres de productos ausentes(Final):',products['product_name'].isna().sum())"
   ]
  },
  {
   "cell_type": "markdown",
   "id": "fc70e5ad",
   "metadata": {
    "id": "fc70e5ad"
   },
   "source": [
    "\n",
    "`Ya que conocemos el origen de porque no tenía el nombre del producto, lo reemplazamos por un string categórico de 'Unkown' y se verificó la eliminación de este.`"
   ]
  },
  {
   "cell_type": "markdown",
   "id": "7eb45c86",
   "metadata": {
    "id": "7eb45c86"
   },
   "source": [
    "### `orders` data frame"
   ]
  },
  {
   "cell_type": "code",
   "execution_count": 29,
   "id": "93e41d96",
   "metadata": {
    "id": "93e41d96",
    "trusted": false
   },
   "outputs": [
    {
     "name": "stdout",
     "output_type": "stream",
     "text": [
      "Valores ausentes por columna (Inicio):\n",
      " order_id                      0\n",
      "user_id                       0\n",
      "order_number                  0\n",
      "order_dow                     0\n",
      "order_hour_of_day             0\n",
      "days_since_prior_order    28817\n",
      "dtype: int64\n"
     ]
    }
   ],
   "source": [
    "# Encuentra los valores ausentes\n",
    "print('Valores ausentes por columna (Inicio):\\n',instacart_orders.isna().sum())"
   ]
  },
  {
   "cell_type": "code",
   "execution_count": 31,
   "id": "45c7d338",
   "metadata": {
    "trusted": false
   },
   "outputs": [
    {
     "name": "stdout",
     "output_type": "stream",
     "text": [
      "Número de primeros pedidos: 28817\n",
      "Número de valores ausentes en esos primeros pedidos: 28817\n",
      "\n",
      "Valores ausentes por columna (Final):\n",
      " order_id                  0\n",
      "user_id                   0\n",
      "order_number              0\n",
      "order_dow                 0\n",
      "order_hour_of_day         0\n",
      "days_since_prior_order    0\n",
      "dtype: int64\n"
     ]
    }
   ],
   "source": [
    "# Verificación de los valores ausentes en los primeros pedidos\n",
    "primer_pedido = instacart_orders[instacart_orders['order_number'] == 1]\n",
    "print('Número de primeros pedidos:', len(primer_pedido))\n",
    "print('Número de valores ausentes en esos primeros pedidos:', primer_pedido['days_since_prior_order'].isna().sum())\n",
    "\n",
    "# Completa los valores ausentes de days_since_prior_order con 'first_order'\n",
    "instacart_orders['days_since_prior_order'].fillna('first_order', inplace=True)\n",
    "\n",
    "# Comprobación de los valores ausentes \n",
    "print()\n",
    "print('Valores ausentes por columna (Final):\\n',instacart_orders.isna().sum())"
   ]
  },
  {
   "cell_type": "markdown",
   "id": "4e23d089",
   "metadata": {
    "id": "4e23d089"
   },
   "source": [
    "\n",
    "`Al analizar los valores ausentes en el DataFrame instacart_orders, observé que la única columna con datos faltantes es days_since_prior_order, con 28,817 valores nulos. Esto tiene sentido, ya que esta columna representa los días transcurridos desde el pedido anterior, por lo que en el primer pedido de cada usuario este dato no existe. Verifiqué que todos estos valores nulos corresponden efectivamente al primer pedido (order_number == 1), por lo que decidí asignarle un valor de first_order. De esta manera ya no existen valores ausentes en el DataFrame.`"
   ]
  },
  {
   "cell_type": "markdown",
   "id": "69dc9ca4",
   "metadata": {
    "id": "69dc9ca4"
   },
   "source": [
    "### `order_products` data frame"
   ]
  },
  {
   "cell_type": "code",
   "execution_count": 32,
   "id": "b8240253",
   "metadata": {
    "id": "b8240253",
    "trusted": false
   },
   "outputs": [
    {
     "name": "stdout",
     "output_type": "stream",
     "text": [
      "Valores ausentes por columna (Inicio):\n",
      " order_id               0\n",
      "product_id             0\n",
      "add_to_cart_order    836\n",
      "reordered              0\n",
      "dtype: int64\n"
     ]
    }
   ],
   "source": [
    "# Encuentra los valores ausentes\n",
    "print('Valores ausentes por columna (Inicio):\\n',order_products.isna().sum())"
   ]
  },
  {
   "cell_type": "code",
   "execution_count": 33,
   "id": "9a78e5ee",
   "metadata": {
    "id": "9a78e5ee",
    "trusted": false
   },
   "outputs": [
    {
     "name": "stdout",
     "output_type": "stream",
     "text": [
      "Valor mínimo: 1.0\n",
      "Valor máximo: 64.0\n"
     ]
    }
   ],
   "source": [
    "# ¿Cuáles son los valores mínimos y máximos en esta columna?\n",
    "print('Valor mínimo:', order_products['add_to_cart_order'].min())\n",
    "print('Valor máximo:', order_products['add_to_cart_order'].max())"
   ]
  },
  {
   "cell_type": "markdown",
   "id": "-Z2Ja215jW78",
   "metadata": {
    "id": "-Z2Ja215jW78"
   },
   "source": [
    "\n",
    "`Como se realizó en los DataFrames anteriores, se buscaron los valores ausentes y se encontró que en la columna de add_to_cart_order hay 836 valores ausentes. Esta columna indica el orden en que los productos fueron agregados al carrito, con un rango normal de 1 a 64.`"
   ]
  },
  {
   "cell_type": "code",
   "execution_count": 34,
   "id": "ab9d0c2b",
   "metadata": {
    "id": "ab9d0c2b",
    "trusted": false
   },
   "outputs": [],
   "source": [
    "# Guarda todas las IDs de pedidos que tengan un valor ausente en 'add_to_cart_order'\n",
    "missing_add_to_cart_order = order_products[order_products['add_to_cart_order'].isna()]\n",
    "pedidos_con_id_nulos = missing_add_to_cart_order['order_id']"
   ]
  },
  {
   "cell_type": "code",
   "execution_count": 35,
   "id": "54c31695",
   "metadata": {
    "id": "54c31695",
    "trusted": false
   },
   "outputs": [
    {
     "name": "stdout",
     "output_type": "stream",
     "text": [
      "Número mínimo de productos por pedido: 1\n"
     ]
    }
   ],
   "source": [
    "# ¿Todos los pedidos con valores ausentes tienen más de 64 productos?\n",
    "# Agrupa todos los pedidos con datos ausentes por su ID de pedido.\n",
    "# Cuenta el número de 'product_id' en cada pedido y revisa el valor mínimo del conteo.\n",
    "conteo_productos_por_pedido = missing_add_to_cart_order.groupby('order_id')['product_id'].count()\n",
    "print('Número mínimo de productos por pedido:', conteo_productos_por_pedido.min())"
   ]
  },
  {
   "cell_type": "markdown",
   "id": "p9V6pddtjglj",
   "metadata": {
    "id": "p9V6pddtjglj"
   },
   "source": [
    "\n",
    "`El análisis mostró que hay pedidos con solo 1 producto y aun así presentan valores ausentes en la columna add_to_cart_order. Esto indica que la causa del valor ausente no está relacionada con la cantidad de productos en el pedido, sino probablemente con un error de captura o ingreso de datos durante el procesamiento del pedido.`"
   ]
  },
  {
   "cell_type": "code",
   "execution_count": 36,
   "id": "7a987d08",
   "metadata": {
    "id": "7a987d08",
    "trusted": false
   },
   "outputs": [
    {
     "name": "stdout",
     "output_type": "stream",
     "text": [
      "Valores ausentes por columna (Final):\n",
      " order_id             0\n",
      "product_id           0\n",
      "add_to_cart_order    0\n",
      "reordered            0\n",
      "dtype: int64\n"
     ]
    }
   ],
   "source": [
    "# Remplaza los valores ausentes en la columna 'add_to_cart? con 999 y convierte la columna al tipo entero.\n",
    "order_products['add_to_cart_order'].fillna(999, inplace=True)\n",
    "order_products['add_to_cart_order']=order_products['add_to_cart_order'].astype(int)\n",
    "print('Valores ausentes por columna (Final):\\n',order_products.isna().sum())"
   ]
  },
  {
   "cell_type": "markdown",
   "id": "fea4bcc7",
   "metadata": {
    "id": "fea4bcc7"
   },
   "source": [
    "\n",
    "`Reemplacé los valores ausentes en la columna add_to_cart_order con el valor 999 para marcar que no se conoce el orden en que se agregaron esos productos. Luego, convertí la columna al tipo entero para mantener consistencia en los datos. Verifiqué que ya no hay valores nulos en esta columna.`"
   ]
  },
  {
   "cell_type": "markdown",
   "id": "RnplPFY1gSrb",
   "metadata": {
    "id": "RnplPFY1gSrb"
   },
   "source": [
    "\n",
    "\n",
    "`Durante este preprocesamiento de los datos se identificaron y gestionaron adecuadamente los valores nulos y duplicados en los distintos dataframes. Quiero resaltar que para cada dataframe el proceso y las soluciones fueron diferentes derivado a los diferentes origenes de dichos problemas.`"
   ]
  },
  {
   "cell_type": "markdown",
   "id": "UjrOIwTcz3ri",
   "metadata": {
    "id": "UjrOIwTcz3ri"
   },
   "source": [
    "## 3. Análisis de los datos\n"
   ]
  },
  {
   "cell_type": "markdown",
   "id": "short-capability",
   "metadata": {
    "id": "short-capability"
   },
   "source": [
    "### [A1] Verifica que los valores sean sensibles"
   ]
  },
  {
   "cell_type": "code",
   "execution_count": 37,
   "id": "growing-fruit",
   "metadata": {
    "id": "growing-fruit",
    "trusted": false
   },
   "outputs": [
    {
     "name": "stdout",
     "output_type": "stream",
     "text": [
      "Valores únicos de order_hour_of_day: [ 0  1  2  3  4  5  6  7  8  9 10 11 12 13 14 15 16 17 18 19 20 21 22 23]\n"
     ]
    }
   ],
   "source": [
    "print('Valores únicos de order_hour_of_day:', instacart_orders['order_hour_of_day'].sort_values().unique())"
   ]
  },
  {
   "cell_type": "code",
   "execution_count": 38,
   "id": "accessory-malaysia",
   "metadata": {
    "id": "accessory-malaysia",
    "trusted": false
   },
   "outputs": [
    {
     "name": "stdout",
     "output_type": "stream",
     "text": [
      "Valores únicos de order_dow: [0 1 2 3 4 5 6]\n"
     ]
    }
   ],
   "source": [
    "print('Valores únicos de order_dow:', instacart_orders['order_dow'].sort_values().unique())"
   ]
  },
  {
   "cell_type": "markdown",
   "id": "hmR2GNQ6lCsX",
   "metadata": {
    "id": "hmR2GNQ6lCsX"
   },
   "source": [
    "\n",
    "`Verifiqué que las columnas order_hour_of_day y order_dow efectivamente tienen valores razonables ya que ambas están dentro de su parámetro correspondiente.`"
   ]
  },
  {
   "cell_type": "markdown",
   "id": "a6743a70",
   "metadata": {
    "id": "a6743a70"
   },
   "source": [
    "### [A2] Para cada hora del día, ¿cuántas personas hacen órdenes?"
   ]
  },
  {
   "cell_type": "code",
   "execution_count": 39,
   "id": "a36cca27",
   "metadata": {
    "id": "a36cca27",
    "trusted": false
   },
   "outputs": [
    {
     "name": "stdout",
     "output_type": "stream",
     "text": [
      "La hora en que la mayor cantidad de personas hacen órdenes es las 10:00 am con un total de 40578\n",
      "La hora en que la menor cantidad de personas hacen órdenes es las 03:00 am con un total de 765\n"
     ]
    },
    {
     "data": {
      "image/png": "[encoded data removed]",
      "text/plain": [
       "<Figure size 640x480 with 1 Axes>"
      ]
     },
     "metadata": {},
     "output_type": "display_data"
    }
   ],
   "source": [
    "orders_per_hour = instacart_orders.groupby(by='order_hour_of_day')['user_id'].count()\n",
    "\n",
    "print('La hora en que la mayor cantidad de personas hacen órdenes es las 10:00 am con un total de', orders_per_hour.max())\n",
    "print('La hora en que la menor cantidad de personas hacen órdenes es las 03:00 am con un total de', orders_per_hour.min())\n",
    "\n",
    "\n",
    "orders_per_hour.plot(kind='bar',\n",
    "                    title='Volumen de personas que realizan órdenes por hora',\n",
    "                    xlabel='Horas del día',\n",
    "                    ylabel='Número de personas'\n",
    "                    )\n",
    "plt.grid(axis='y', linestyle='--', alpha=0.7)\n",
    "plt.grid(axis='x', linestyle='--', alpha=0.7)\n",
    "plt.show()"
   ]
  },
  {
   "cell_type": "markdown",
   "id": "11270eed",
   "metadata": {
    "id": "11270eed"
   },
   "source": [
    "\n",
    "`De acuerdo con la información que nos da este gráfico, entre las 9:00 am y 4:00 pm, es cuando se concentra la mayor cantidad de órdenes. La hora en que hay más personas haciendo órdenes es las 10:00 am con un total de 40,578 usuarios, mientras que en la que hay menos es las 03:00 am con un total de 765. `"
   ]
  },
  {
   "cell_type": "markdown",
   "id": "documented-command",
   "metadata": {
    "id": "documented-command"
   },
   "source": [
    "### [A3] ¿Qué día de la semana compran víveres las personas?"
   ]
  },
  {
   "cell_type": "code",
   "execution_count": 40,
   "id": "chief-digit",
   "metadata": {
    "id": "chief-digit",
    "trusted": false
   },
   "outputs": [
    {
     "data": {
      "image/png": "[encoded data removed]",
      "text/plain": [
       "<Figure size 640x480 with 1 Axes>"
      ]
     },
     "metadata": {},
     "output_type": "display_data"
    }
   ],
   "source": [
    "day_of_week_orders = instacart_orders.groupby(by='order_dow')['user_id'].count()\n",
    "\n",
    "day_of_week_orders.plot(kind='bar',\n",
    "                    title='Volumen de personas que realizan órdenes por día de la semana',\n",
    "                    xlabel='Horas del día',\n",
    "                    ylabel='Número de personas'\n",
    "                    )\n",
    "plt.show()"
   ]
  },
  {
   "cell_type": "markdown",
   "id": "dominant-lightning",
   "metadata": {
    "id": "dominant-lightning"
   },
   "source": [
    "\n",
    "`Se puede percatar que todos los días de la semana tiene un gran volumen de órdenes realizadas, sin embargo, los días domingos y lunes son los favoritos de los usuarios para hacer sus pedidos.`"
   ]
  },
  {
   "cell_type": "markdown",
   "id": "cutting-concert",
   "metadata": {
    "id": "cutting-concert"
   },
   "source": [
    "### [A4] ¿Cuánto tiempo esperan las personas hasta hacer otro pedido? Comenta sobre los valores mínimos y máximos."
   ]
  },
  {
   "cell_type": "code",
   "execution_count": 41,
   "id": "c231f523",
   "metadata": {
    "id": "c231f523",
    "trusted": false
   },
   "outputs": [
    {
     "name": "stdout",
     "output_type": "stream",
     "text": [
      "Número de personas que se esperaron 0 días para realizar otro pedido: 2640\n",
      "Número de personas que se esperaron 30 días para realizar otro pedido: 51337\n"
     ]
    },
    {
     "data": {
      "image/png": "[encoded data removed]",
      "text/plain": [
       "<Figure size 640x480 with 1 Axes>"
      ]
     },
     "metadata": {},
     "output_type": "display_data"
    }
   ],
   "source": [
    "days_prior_order = instacart_orders.groupby(by='days_since_prior_order')['user_id'].count()\n",
    "\n",
    "print('Número de personas que se esperaron 0 días para realizar otro pedido:', days_prior_order.min())\n",
    "print('Número de personas que se esperaron 30 días para realizar otro pedido:', days_prior_order.max())\n",
    "\n",
    "\n",
    "days_prior_order .plot(kind='bar',\n",
    "                    title='Días que se esperan las personas para hacer otro pedido',\n",
    "                    xlabel='Horas del día',\n",
    "                    ylabel='Número de personas'\n",
    "                    )\n",
    "plt.grid(axis='y', linestyle='--', alpha=0.7)\n",
    "plt.grid(axis='x', linestyle='--', alpha=0.7)\n",
    "plt.show()"
   ]
  },
  {
   "cell_type": "markdown",
   "id": "discrete-vertex",
   "metadata": {
    "id": "discrete-vertex"
   },
   "source": [
    "\n",
    "`Este gráfico nos muestra la cantidad de días que se esperan los usuarios para volver a realizar un pedido en la página. Solamente 2,640 usuarios realizan otro pedido el mismo día, mientras que 51,337 usuarios se esperan 30 días. La diferencia es bastante notoria. `"
   ]
  },
  {
   "cell_type": "markdown",
   "id": "packed-classic",
   "metadata": {
    "id": "packed-classic"
   },
   "source": [
    "### [B1] Diferencia entre miércoles y sábados para  `'order_hour_of_day'`. Traza gráficos de barra para los dos días y describe las diferencias que veas."
   ]
  },
  {
   "cell_type": "code",
   "execution_count": 42,
   "id": "d89b8403",
   "metadata": {
    "id": "d89b8403",
    "trusted": false
   },
   "outputs": [],
   "source": [
    "# Filtrar para tener las ordenes en día míercoles y sábados\n",
    "wendsday_orders = instacart_orders[instacart_orders['order_dow']== 3]['order_hour_of_day']\n",
    "saturday_orders = instacart_orders[instacart_orders['order_dow']== 6]['order_hour_of_day']"
   ]
  },
  {
   "cell_type": "code",
   "execution_count": 43,
   "id": "2b2a661a",
   "metadata": {
    "id": "94e54e8a",
    "trusted": false
   },
   "outputs": [],
   "source": [
    "# Contar las órdenes por hora del día\n",
    "wendsday_orders = wendsday_orders.value_counts().sort_index()\n",
    "saturday_orders  = saturday_orders.value_counts().sort_index()"
   ]
  },
  {
   "cell_type": "code",
   "execution_count": 44,
   "id": "adc9ecdc",
   "metadata": {
    "trusted": false
   },
   "outputs": [],
   "source": [
    "# Crear un Dataframe con ambas series\n",
    "hourly_days = pd.DataFrame({\n",
    "    'miércoles':wendsday_orders,\n",
    "    'sábados': saturday_orders\n",
    "})\n",
    "\n",
    "# Asegurarse de que todas las horas del 0 al 23 estén presentes (por si falta alguna)\n",
    "hourly_days = hourly_days.reindex(range(24), fill_value=0)"
   ]
  },
  {
   "cell_type": "code",
   "execution_count": 45,
   "id": "797c90a8",
   "metadata": {
    "id": "797c90a8",
    "trusted": false
   },
   "outputs": [
    {
     "data": {
      "image/png": "[encoded data removed]",
      "text/plain": [
       "<Figure size 640x480 with 1 Axes>"
      ]
     },
     "metadata": {},
     "output_type": "display_data"
    }
   ],
   "source": [
    "hourly_days.plot(kind='bar',\n",
    "                title='Comparación de distribuciones en la hora de los pedidos de miércoles y sábado',\n",
    "                xlabel='Hora del día',\n",
    "                ylabel='Número de órdenes')\n",
    "plt.grid(axis='y', linestyle='--', alpha=0.7)\n",
    "plt.grid(axis='x', linestyle='--', alpha=0.7)\n",
    "plt.legend(['Miércoles','Sábados'])\n",
    "plt.show()"
   ]
  },
  {
   "cell_type": "markdown",
   "id": "charitable-congo",
   "metadata": {
    "id": "charitable-congo"
   },
   "source": [
    "\n",
    "`Este gráfico nos muestra una comparación de distribuciones en la hora de los pedidos realizados entre miércoles y sábados. Dentro de las primeras 6 horas del día, los pedidos son muy bajos para ambos días, sin embargo, entre las 9:00 am y las 4:00 pm es cuando más pedidos entran a la página. `"
   ]
  },
  {
   "cell_type": "markdown",
   "id": "e3891143",
   "metadata": {
    "id": "e3891143"
   },
   "source": [
    "### [B2] ¿Cuál es la distribución para el número de pedidos por cliente?"
   ]
  },
  {
   "cell_type": "code",
   "execution_count": 46,
   "id": "d8c26c23",
   "metadata": {
    "id": "d8c26c23",
    "trusted": false
   },
   "outputs": [],
   "source": [
    "orders_per_user = instacart_orders.groupby('user_id')['order_number'].max()\n",
    "orders_per_user = orders_per_user.value_counts().sort_index()"
   ]
  },
  {
   "cell_type": "code",
   "execution_count": 47,
   "id": "00e69a66",
   "metadata": {
    "id": "00e69a66",
    "trusted": false
   },
   "outputs": [
    {
     "data": {
      "image/png": "[encoded data removed]",
      "text/plain": [
       "<Figure size 640x480 with 1 Axes>"
      ]
     },
     "metadata": {},
     "output_type": "display_data"
    }
   ],
   "source": [
    "orders_per_user.plot(\n",
    "                title='Distribuciones para el número de pedidos por cliente',\n",
    "                xlabel='Numéro órdenes',\n",
    "                ylabel='Número de clientes')\n",
    "plt.grid(axis='y', linestyle='--', alpha=0.7)\n",
    "plt.grid(axis='x', linestyle='--', alpha=0.7)\n",
    "plt.show()"
   ]
  },
  {
   "cell_type": "markdown",
   "id": "d2eff7d5",
   "metadata": {
    "id": "d2eff7d5"
   },
   "source": [
    "\n",
    "`En el presente gráfico muestra la distribución para el número de pedidos por cliente y se puede observar que tiene un comportamiento exponencial negativo, ya que entre más número de pedidos hay menores clientes. `"
   ]
  },
  {
   "cell_type": "markdown",
   "id": "54a0319c",
   "metadata": {
    "id": "54a0319c"
   },
   "source": [
    "### [B3] ¿Cuáles son los 20 productos más populares (muestra su ID y nombre)?"
   ]
  },
  {
   "cell_type": "code",
   "execution_count": 48,
   "id": "exterior-arizona",
   "metadata": {
    "id": "exterior-arizona",
    "scrolled": true,
    "trusted": false
   },
   "outputs": [],
   "source": [
    "# Agrupamos por product_id y contamos cuantas veces aparecen\n",
    "product_counts = order_products.groupby('product_id').size().reset_index(name='order_count')"
   ]
  },
  {
   "cell_type": "code",
   "execution_count": 49,
   "id": "universal-facial",
   "metadata": {
    "id": "universal-facial",
    "trusted": false
   },
   "outputs": [],
   "source": [
    "# Ordenar de mayor a menor y seleccionar los primeros 20\n",
    "top_20 = product_counts.sort_values('order_count', ascending=False).head(20)"
   ]
  },
  {
   "cell_type": "code",
   "execution_count": 50,
   "id": "bbcdd20b",
   "metadata": {
    "id": "bbcdd20b",
    "trusted": false
   },
   "outputs": [
    {
     "name": "stdout",
     "output_type": "stream",
     "text": [
      "    product_id              product_name\n",
      "0        24852                    BANANA\n",
      "1        13176    BAG OF ORGANIC BANANAS\n",
      "2        21137      ORGANIC STRAWBERRIES\n",
      "3        21903      ORGANIC BABY SPINACH\n",
      "4        47209      ORGANIC HASS AVOCADO\n",
      "5        47766           ORGANIC AVOCADO\n",
      "6        47626               LARGE LEMON\n",
      "7        16797              STRAWBERRIES\n",
      "8        26209                     LIMES\n",
      "9        27845        ORGANIC WHOLE MILK\n",
      "10       27966       ORGANIC RASPBERRIES\n",
      "11       22935      ORGANIC YELLOW ONION\n",
      "12       24964            ORGANIC GARLIC\n",
      "13       45007          ORGANIC ZUCCHINI\n",
      "14       39275       ORGANIC BLUEBERRIES\n",
      "15       49683            CUCUMBER KIRBY\n",
      "16       28204        ORGANIC FUJI APPLE\n",
      "17        5876             ORGANIC LEMON\n",
      "18        8277  APPLE HONEYCRISP ORGANIC\n",
      "19       40706    ORGANIC GRAPE TOMATOES\n"
     ]
    }
   ],
   "source": [
    "# Unimos con products para agregar los nombres\n",
    "top_20 = top_20.merge(products, on= 'product_id')\n",
    "\n",
    "print(top_20[['product_id', 'product_name']])"
   ]
  },
  {
   "cell_type": "markdown",
   "id": "7df00f47",
   "metadata": {
    "id": "7df00f47"
   },
   "source": [
    "\n",
    "`Los 20 productos más populares dentro de los usuarios son en su mayoría frutas y verduras, donde los productos órganicos al parecer son los favoritos. Esto nos podría decir que los clientes de esta empresa tienen tienen una preferencia por productos que sean más saludables y ecológicos.`"
   ]
  },
  {
   "cell_type": "markdown",
   "id": "romantic-deposit",
   "metadata": {
    "id": "romantic-deposit"
   },
   "source": [
    "### [C1] ¿Cuántos artículos compran normalmente las personas en un pedido? ¿Cómo es la distribución?"
   ]
  },
  {
   "cell_type": "code",
   "execution_count": 63,
   "id": "virtual-punch",
   "metadata": {
    "id": "virtual-punch",
    "trusted": false
   },
   "outputs": [],
   "source": [
    "num_prod_per_order = order_products.groupby(by='order_id')['product_id'].count()"
   ]
  },
  {
   "cell_type": "code",
   "execution_count": 69,
   "id": "completed-frank",
   "metadata": {
    "id": "completed-frank",
    "trusted": false
   },
   "outputs": [
    {
     "data": {
      "image/png": "[encoded data removed]",
      "text/plain": [
       "<Figure size 640x480 with 1 Axes>"
      ]
     },
     "metadata": {},
     "output_type": "display_data"
    }
   ],
   "source": [
    "num_prod_per_order.plot(kind='hist',\n",
    "                       bins= 200,\n",
    "                       title= 'Distribución de la compra de productos por pedido')\n",
    "plt.show()"
   ]
  },
  {
   "cell_type": "code",
   "execution_count": 76,
   "id": "c45e8e91",
   "metadata": {
    "trusted": false
   },
   "outputs": [
    {
     "name": "stdout",
     "output_type": "stream",
     "text": [
      "El promedio de los artículos por pedido es: 10.098983215049127\n",
      "El máximo de los artículos por pedido es: 127\n"
     ]
    }
   ],
   "source": [
    "print('El promedio de los artículos por pedido es:', num_prod_per_order.mean())\n",
    "print('El máximo de los artículos por pedido es:', num_prod_per_order.max())"
   ]
  },
  {
   "cell_type": "markdown",
   "id": "designed-mortality",
   "metadata": {
    "id": "designed-mortality"
   },
   "source": [
    "\n",
    "`En el gráfico anterior muestra la distribución de cuántos artículos compran normalmente las personas en un pedido, donde el promedio fue de 11 artículos y el promedio due de 127 artículos. `"
   ]
  },
  {
   "cell_type": "markdown",
   "id": "5e6b5537",
   "metadata": {
    "id": "5e6b5537"
   },
   "source": [
    "### [C2] ¿Cuáles son los 20 principales artículos que vuelven a pedirse con mayor frecuencia (muestra sus nombres e IDs de los productos)?"
   ]
  },
  {
   "cell_type": "code",
   "execution_count": 101,
   "id": "9374e55a",
   "metadata": {
    "id": "9374e55a",
    "trusted": false
   },
   "outputs": [],
   "source": [
    "# Filtrar solo los productos que fueron reordenados (reordered = 1)\n",
    "re_product_counts = order_products[order_products['reordered']==1]"
   ]
  },
  {
   "cell_type": "code",
   "execution_count": 102,
   "id": "possible-change",
   "metadata": {
    "id": "possible-change",
    "scrolled": true,
    "trusted": false
   },
   "outputs": [],
   "source": [
    "# Contar cuántas veces se reordenó cada producto\n",
    "re_product_counts = re_product_counts['product_id'].value_counts().head(20)"
   ]
  },
  {
   "cell_type": "code",
   "execution_count": 103,
   "id": "professional-surfing",
   "metadata": {
    "id": "professional-surfing",
    "scrolled": true,
    "trusted": false
   },
   "outputs": [],
   "source": [
    "# Convertir a DataFrame\n",
    "re_product_counts = re_product_counts.reset_index()\n",
    "re_product_counts.columns = ['product_id', 'reorder_count']\n",
    "\n",
    "# Unir con el DataFrame de productos para obtener los nombres\n",
    "top_reorder = re_product_counts.merge(products, on = 'product_id')"
   ]
  },
  {
   "cell_type": "code",
   "execution_count": 104,
   "id": "48dd3658",
   "metadata": {
    "id": "48dd3658",
    "trusted": false
   },
   "outputs": [
    {
     "name": "stdout",
     "output_type": "stream",
     "text": [
      "    product_id              product_name\n",
      "0        24852                    BANANA\n",
      "1        13176    BAG OF ORGANIC BANANAS\n",
      "2        21137      ORGANIC STRAWBERRIES\n",
      "3        21903      ORGANIC BABY SPINACH\n",
      "4        47209      ORGANIC HASS AVOCADO\n",
      "5        47766           ORGANIC AVOCADO\n",
      "6        27845        ORGANIC WHOLE MILK\n",
      "7        47626               LARGE LEMON\n",
      "8        27966       ORGANIC RASPBERRIES\n",
      "9        16797              STRAWBERRIES\n",
      "10       26209                     LIMES\n",
      "11       22935      ORGANIC YELLOW ONION\n",
      "12       24964            ORGANIC GARLIC\n",
      "13       45007          ORGANIC ZUCCHINI\n",
      "14       49683            CUCUMBER KIRBY\n",
      "15       28204        ORGANIC FUJI APPLE\n",
      "16        8277  APPLE HONEYCRISP ORGANIC\n",
      "17       39275       ORGANIC BLUEBERRIES\n",
      "18        5876             ORGANIC LEMON\n",
      "19       49235       ORGANIC HALF & HALF\n"
     ]
    }
   ],
   "source": [
    "print(top_reorder[['product_id', 'product_name']])"
   ]
  },
  {
   "cell_type": "markdown",
   "id": "80e70c74",
   "metadata": {
    "id": "80e70c74"
   },
   "source": [
    "\n",
    "` La diferencia entre los productos que vuelven a pedir y los más populares es mínima. Sin embargo, los primeros 6 artículos son exactamente los mismos: banana, bag of organic bananas, organic strawberries, organic baby spinach,organic hass avocado, organic avocado. `"
   ]
  },
  {
   "cell_type": "markdown",
   "id": "9d312b14",
   "metadata": {
    "id": "9d312b14"
   },
   "source": [
    "### [C3] Para cada producto, ¿cuál es la proporción de las veces que se pide y que se vuelve a pedir?"
   ]
  },
  {
   "cell_type": "code",
   "execution_count": 119,
   "id": "8ae9f4b1",
   "metadata": {
    "id": "8ae9f4b1",
    "trusted": false
   },
   "outputs": [],
   "source": [
    "#  Contar cuántas veces se pidió cada producto\n",
    "total_orders = order_products.groupby(by='product_id').size()\n",
    "\n",
    "# Contar cuántas veces fue reordenado cada producto \n",
    "reorders = order_products[order_products['reordered']==1].groupby(by='product_id').size()"
   ]
  },
  {
   "cell_type": "code",
   "execution_count": 120,
   "id": "103e7fe1",
   "metadata": {
    "id": "103e7fe1",
    "trusted": false
   },
   "outputs": [],
   "source": [
    "# Juntar ambos DataFrames\n",
    "reorder_rate = pd.DataFrame({\n",
    "    'total_orders': total_orders,\n",
    "    'reorders': reorders\n",
    "})"
   ]
  },
  {
   "cell_type": "code",
   "execution_count": 121,
   "id": "social-individual",
   "metadata": {
    "id": "social-individual",
    "trusted": false
   },
   "outputs": [],
   "source": [
    "# Llena de 0 los productos que no se volvieron a pedir\n",
    "reorder_rate.fillna(0, inplace=True)"
   ]
  },
  {
   "cell_type": "code",
   "execution_count": 134,
   "id": "ce3fe0c4",
   "metadata": {
    "trusted": false
   },
   "outputs": [
    {
     "name": "stdout",
     "output_type": "stream",
     "text": [
      "La tasa de repetión promedio para cada producto es de: 0.38670677893645\n"
     ]
    }
   ],
   "source": [
    "# Calcular la tasa de repetición \n",
    "reorder_rate['reoder_ratio'] = reorder_rate['reorders'] / reorder_rate['total_orders']\n",
    "\n",
    "print('La tasa de repetión promedio para cada producto es de:',reorder_rate['reoder_ratio'].mean())"
   ]
  },
  {
   "cell_type": "markdown",
   "id": "I10dEIAyldcO",
   "metadata": {
    "id": "I10dEIAyldcO"
   },
   "source": [
    "\n",
    "` La tasa de repetición promedio para para productos nos dice que, en promedio, alrededor del 38.7% de las veces que un producto es comprado, ya había sido comprado antes por ese mismo cliente. Así como también, hay una tendencia moderada a repetir productos, pero también muchos clientes prueban productos nuevos con frecuencia.`"
   ]
  },
  {
   "cell_type": "markdown",
   "id": "subject-boxing",
   "metadata": {
    "id": "subject-boxing"
   },
   "source": [
    "### [C4] Para cada cliente, ¿qué proporción de sus productos ya los había pedido?"
   ]
  },
  {
   "cell_type": "code",
   "execution_count": 131,
   "id": "medical-couple",
   "metadata": {
    "id": "medical-couple",
    "scrolled": true,
    "trusted": false
   },
   "outputs": [],
   "source": [
    "# Unir el DataFrame de order_products con el de instacart_orders para poder obtener un ID de un usuario con sus pedidos\n",
    "orders_w_users = order_products.merge(instacart_orders[['order_id', 'user_id']], on='order_id')"
   ]
  },
  {
   "cell_type": "code",
   "execution_count": 130,
   "id": "8892e4b4",
   "metadata": {
    "id": "8892e4b4",
    "trusted": false
   },
   "outputs": [],
   "source": [
    "# Contar productos totales y reordenados por usuarios\n",
    "user_order_stats = orders_w_users.groupby(by='user_id').agg(\n",
    "    total_products= ('product_id','count'),\n",
    "    reordered_products = ('reordered', 'sum')\n",
    ")"
   ]
  },
  {
   "cell_type": "code",
   "execution_count": 135,
   "id": "adb6693b",
   "metadata": {
    "trusted": false
   },
   "outputs": [
    {
     "name": "stdout",
     "output_type": "stream",
     "text": [
      "La tasa de repetión promedio para cada cliente es de: 0.4948531736151642\n"
     ]
    }
   ],
   "source": [
    "# Calcular la tasa de repetición \n",
    "user_order_stats['repeat_rate'] = user_order_stats['reordered_products'] / user_order_stats['total_products']\n",
    "\n",
    "print('La tasa de repetión promedio para cada cliente es de:', user_order_stats['repeat_rate'].mean())"
   ]
  },
  {
   "cell_type": "markdown",
   "id": "BgJSvXDsleXz",
   "metadata": {
    "id": "BgJSvXDsleXz"
   },
   "source": [
    "\n",
    "`La tasa de repetición promedio por cliente nos dice que en promedio, cada cliente vuelve a pedir casi la mitad de los productos que ya había comprado antes. `"
   ]
  },
  {
   "cell_type": "markdown",
   "id": "92d35137",
   "metadata": {
    "id": "92d35137"
   },
   "source": [
    "### [C5] ¿Cuáles son los 20 principales artículos que las personas ponen primero en sus carritos?"
   ]
  },
  {
   "cell_type": "code",
   "execution_count": 137,
   "id": "0ae57274",
   "metadata": {
    "id": "0ae57274",
    "scrolled": true,
    "trusted": false
   },
   "outputs": [],
   "source": [
    "# Filtrar el DataFrame de order_products por artículos que fueron primeros en los carritos de compra\n",
    "first_order = order_products[order_products['add_to_cart_order']==1]"
   ]
  },
  {
   "cell_type": "code",
   "execution_count": 138,
   "id": "forty-netherlands",
   "metadata": {
    "id": "forty-netherlands",
    "scrolled": true,
    "trusted": false
   },
   "outputs": [],
   "source": [
    "# Contar cuántas veces se reordenó cada producto\n",
    "first_order = first_order['product_id'].value_counts().head(20)"
   ]
  },
  {
   "cell_type": "code",
   "execution_count": 139,
   "id": "08e41ec2",
   "metadata": {
    "id": "08e41ec2",
    "trusted": false
   },
   "outputs": [],
   "source": [
    "# Convertir a DataFrame\n",
    "first_order = first_order.reset_index()\n",
    "first_order.columns = ['product_id', 'firts_order_count']\n",
    "\n",
    "# Unir con el DataFrame de productos para obtener los nombres\n",
    "top_first = first_order.merge(products, on = 'product_id')"
   ]
  },
  {
   "cell_type": "code",
   "execution_count": 140,
   "id": "44f671d3",
   "metadata": {
    "trusted": false
   },
   "outputs": [
    {
     "name": "stdout",
     "output_type": "stream",
     "text": [
      "    product_id                 product_name  firts_order_count\n",
      "0        24852                       BANANA              15562\n",
      "1        13176       BAG OF ORGANIC BANANAS              11026\n",
      "2        27845           ORGANIC WHOLE MILK               4363\n",
      "3        21137         ORGANIC STRAWBERRIES               3946\n",
      "4        47209         ORGANIC HASS AVOCADO               3390\n",
      "5        21903         ORGANIC BABY SPINACH               3336\n",
      "6        47766              ORGANIC AVOCADO               3044\n",
      "7        19660                 SPRING WATER               2336\n",
      "8        16797                 STRAWBERRIES               2308\n",
      "9        27966          ORGANIC RASPBERRIES               2024\n",
      "10       44632   SPARKLING WATER GRAPEFRUIT               1914\n",
      "11       49235          ORGANIC HALF & HALF               1797\n",
      "12       47626                  LARGE LEMON               1737\n",
      "13         196                         SODA               1733\n",
      "14       38689     ORGANIC REDUCED FAT MILK               1397\n",
      "15       26209                        LIMES               1370\n",
      "16       12341                HASS AVOCADOS               1340\n",
      "17        5785  ORGANIC REDUCED FAT 2% MILK               1310\n",
      "18       27086                  HALF & HALF               1309\n",
      "19       22935         ORGANIC YELLOW ONION               1246\n"
     ]
    }
   ],
   "source": [
    "print(top_first[['product_id', 'product_name','firts_order_count']])"
   ]
  },
  {
   "cell_type": "markdown",
   "id": "28ce9872",
   "metadata": {
    "id": "28ce9872"
   },
   "source": [
    "\n",
    "`Sorpresivamente se a repetieron varios datos con los otros DataFrames, pero específicamente los primeros 2 productos : banana y bag of organic bananas. `"
   ]
  },
  {
   "cell_type": "markdown",
   "id": "uITbFCEoDosC",
   "metadata": {
    "id": "uITbFCEoDosC"
   },
   "source": [
    "### Conclusión "
   ]
  },
  {
   "cell_type": "markdown",
   "id": "09d21939",
   "metadata": {
    "id": "Nk-4GS7mDwqY"
   },
   "source": [
    "`En el análisis de los datos de Instacart, se identificaron los productos más comprados, como plátanos y aguacates orgánicos, que muestran altas tasas de repetición. Los clientes tienden a reordenar alrededor del 49.5% de los productos que compran, lo que refleja un comportamiento leal y repetitivo. A nivel de producto, la tasa de repetición es de 38.7%, destacando productos como frutas y lácteos orgánicos como los más recurrentes. Este comportamiento sugiere que los consumidores prefieren ciertos artículos, especialmente aquellos con opciones orgánicas. Los datos muestran que los productos frescos, como frutas y verduras, tienen una mayor probabilidad de ser reordenados. Este hallazgo es valioso para la optimización de inventarios y estrategias de marketing, ya que puede orientarse hacia productos de alta repetición. Además, se podría implementar promociones específicas para fomentar la lealtad del cliente. En general, las tendencias de compra repetida en Instacart indican un fuerte potencial para fomentar la fidelidad a través de promociones y descuentos dirigidos. Estos análisis proporcionan una visión clara sobre cómo maximizar las ventas basadas en el comportamiento del cliente.`"
   ]
  },
  {
   "cell_type": "code",
   "execution_count": null,
   "id": "64a6ec78",
   "metadata": {
    "trusted": false
   },
   "outputs": [],
   "source": []
  }
 ],
 "metadata": {
  "ExecuteTimeLog": [
   {
    "duration": 2455,
    "start_time": "2025-04-02T18:05:31.273Z"
   },
   {
    "duration": 334,
    "start_time": "2025-04-02T18:07:01.410Z"
   },
   {
    "duration": 2380,
    "start_time": "2025-04-02T18:09:20.653Z"
   },
   {
    "duration": 20,
    "start_time": "2025-04-02T18:10:35.726Z"
   },
   {
    "duration": 20,
    "start_time": "2025-04-02T18:10:57.284Z"
   },
   {
    "duration": 6,
    "start_time": "2025-04-02T18:12:29.871Z"
   },
   {
    "duration": 2375,
    "start_time": "2025-04-02T18:13:49.047Z"
   },
   {
    "duration": 6,
    "start_time": "2025-04-02T18:13:52.410Z"
   },
   {
    "duration": 11,
    "start_time": "2025-04-02T18:14:39.131Z"
   },
   {
    "duration": 167,
    "start_time": "2025-04-02T18:52:28.476Z"
   },
   {
    "duration": 2124,
    "start_time": "2025-04-02T18:52:34.354Z"
   },
   {
    "duration": 2020,
    "start_time": "2025-04-02T18:52:38.026Z"
   },
   {
    "duration": 12,
    "start_time": "2025-04-02T18:52:43.684Z"
   },
   {
    "duration": 5,
    "start_time": "2025-04-02T18:52:47.773Z"
   },
   {
    "duration": 1853,
    "start_time": "2025-04-02T18:53:09.058Z"
   },
   {
    "duration": 4,
    "start_time": "2025-04-02T18:53:13.774Z"
   },
   {
    "duration": 10,
    "start_time": "2025-04-02T18:54:12.597Z"
   },
   {
    "duration": 5,
    "start_time": "2025-04-02T18:54:33.345Z"
   },
   {
    "duration": 923,
    "start_time": "2025-04-02T18:54:50.857Z"
   },
   {
    "duration": 12,
    "start_time": "2025-04-02T18:54:54.053Z"
   },
   {
    "duration": 10,
    "start_time": "2025-04-02T18:54:56.233Z"
   },
   {
    "duration": 22,
    "start_time": "2025-04-02T18:55:14.407Z"
   },
   {
    "duration": 8,
    "start_time": "2025-04-02T18:55:46.254Z"
   },
   {
    "duration": 10,
    "start_time": "2025-04-02T18:56:12.798Z"
   },
   {
    "duration": 2131,
    "start_time": "2025-04-02T22:25:09.935Z"
   },
   {
    "duration": 1020,
    "start_time": "2025-04-02T22:25:15.813Z"
   },
   {
    "duration": 865,
    "start_time": "2025-04-02T22:25:35.126Z"
   },
   {
    "duration": 11,
    "start_time": "2025-04-02T22:25:47.989Z"
   },
   {
    "duration": 10,
    "start_time": "2025-04-02T22:25:54.280Z"
   },
   {
    "duration": 23,
    "start_time": "2025-04-02T22:25:56.782Z"
   },
   {
    "duration": 9,
    "start_time": "2025-04-02T22:25:59.235Z"
   },
   {
    "duration": 8,
    "start_time": "2025-04-02T22:26:02.091Z"
   },
   {
    "duration": 77,
    "start_time": "2025-04-02T22:35:43.441Z"
   },
   {
    "duration": 71,
    "start_time": "2025-04-02T22:37:58.823Z"
   },
   {
    "duration": 140,
    "start_time": "2025-04-02T22:40:25.983Z"
   },
   {
    "duration": 585,
    "start_time": "2025-04-02T22:48:42.973Z"
   },
   {
    "duration": 34,
    "start_time": "2025-04-02T22:48:58.788Z"
   },
   {
    "duration": 8,
    "start_time": "2025-04-02T22:50:14.209Z"
   },
   {
    "duration": 6,
    "start_time": "2025-04-02T22:51:06.768Z"
   },
   {
    "duration": 82,
    "start_time": "2025-04-02T23:00:14.799Z"
   },
   {
    "duration": 75,
    "start_time": "2025-04-02T23:00:57.792Z"
   },
   {
    "duration": 21,
    "start_time": "2025-04-02T23:02:04.034Z"
   },
   {
    "duration": 21,
    "start_time": "2025-04-02T23:08:12.641Z"
   },
   {
    "duration": 12,
    "start_time": "2025-04-02T23:08:30.765Z"
   },
   {
    "duration": 3,
    "start_time": "2025-04-02T23:09:26.269Z"
   },
   {
    "duration": 7,
    "start_time": "2025-04-02T23:10:19.307Z"
   },
   {
    "duration": 5,
    "start_time": "2025-04-02T23:12:04.242Z"
   },
   {
    "duration": 3,
    "start_time": "2025-04-02T23:12:30.419Z"
   },
   {
    "duration": 13,
    "start_time": "2025-04-02T23:12:34.720Z"
   },
   {
    "duration": 12,
    "start_time": "2025-04-02T23:12:38.989Z"
   },
   {
    "duration": 11,
    "start_time": "2025-04-02T23:12:55.869Z"
   },
   {
    "duration": 18,
    "start_time": "2025-04-02T23:13:30.601Z"
   },
   {
    "duration": 27,
    "start_time": "2025-04-02T23:18:54.467Z"
   },
   {
    "duration": 2112,
    "start_time": "2025-04-03T17:44:14.014Z"
   },
   {
    "duration": 1011,
    "start_time": "2025-04-03T17:44:16.128Z"
   },
   {
    "duration": 12,
    "start_time": "2025-04-03T17:44:17.141Z"
   },
   {
    "duration": 9,
    "start_time": "2025-04-03T17:44:17.156Z"
   },
   {
    "duration": 23,
    "start_time": "2025-04-03T17:44:17.167Z"
   },
   {
    "duration": 27,
    "start_time": "2025-04-03T17:44:17.192Z"
   },
   {
    "duration": 15,
    "start_time": "2025-04-03T17:44:17.221Z"
   },
   {
    "duration": 172,
    "start_time": "2025-04-03T17:44:17.237Z"
   },
   {
    "duration": 6,
    "start_time": "2025-04-03T17:44:17.412Z"
   },
   {
    "duration": 103,
    "start_time": "2025-04-03T17:44:17.421Z"
   },
   {
    "duration": 91,
    "start_time": "2025-04-03T17:44:17.526Z"
   },
   {
    "duration": 27,
    "start_time": "2025-04-03T17:44:17.619Z"
   },
   {
    "duration": 11,
    "start_time": "2025-04-03T17:44:17.648Z"
   },
   {
    "duration": 3,
    "start_time": "2025-04-03T17:44:17.660Z"
   },
   {
    "duration": 18,
    "start_time": "2025-04-03T17:44:17.665Z"
   },
   {
    "duration": 25,
    "start_time": "2025-04-03T17:44:17.712Z"
   },
   {
    "duration": 3,
    "start_time": "2025-04-03T17:44:17.739Z"
   },
   {
    "duration": 2,
    "start_time": "2025-04-03T17:44:17.744Z"
   },
   {
    "duration": 2,
    "start_time": "2025-04-03T17:44:17.748Z"
   },
   {
    "duration": 3,
    "start_time": "2025-04-03T17:44:17.752Z"
   },
   {
    "duration": 3,
    "start_time": "2025-04-03T17:44:17.757Z"
   },
   {
    "duration": 3,
    "start_time": "2025-04-03T17:44:17.761Z"
   },
   {
    "duration": 3,
    "start_time": "2025-04-03T17:44:17.766Z"
   },
   {
    "duration": 3,
    "start_time": "2025-04-03T17:44:17.770Z"
   },
   {
    "duration": 37,
    "start_time": "2025-04-03T17:44:17.775Z"
   },
   {
    "duration": 2,
    "start_time": "2025-04-03T17:44:17.814Z"
   },
   {
    "duration": 3,
    "start_time": "2025-04-03T17:44:17.818Z"
   },
   {
    "duration": 2,
    "start_time": "2025-04-03T17:44:17.824Z"
   },
   {
    "duration": 2,
    "start_time": "2025-04-03T17:44:17.828Z"
   },
   {
    "duration": 4,
    "start_time": "2025-04-03T17:44:17.832Z"
   },
   {
    "duration": 3,
    "start_time": "2025-04-03T17:44:17.837Z"
   },
   {
    "duration": 3,
    "start_time": "2025-04-03T17:44:17.842Z"
   },
   {
    "duration": 4,
    "start_time": "2025-04-03T17:44:17.846Z"
   },
   {
    "duration": 3,
    "start_time": "2025-04-03T17:44:17.851Z"
   },
   {
    "duration": 2,
    "start_time": "2025-04-03T17:44:41.755Z"
   },
   {
    "duration": 3,
    "start_time": "2025-04-03T17:44:55.536Z"
   },
   {
    "duration": 851,
    "start_time": "2025-04-03T17:44:56.984Z"
   },
   {
    "duration": 415,
    "start_time": "2025-04-03T17:45:09.066Z"
   },
   {
    "duration": 910,
    "start_time": "2025-04-03T17:45:09.484Z"
   },
   {
    "duration": 19,
    "start_time": "2025-04-03T17:45:10.395Z"
   },
   {
    "duration": 9,
    "start_time": "2025-04-03T17:45:10.416Z"
   },
   {
    "duration": 21,
    "start_time": "2025-04-03T17:45:10.427Z"
   },
   {
    "duration": 8,
    "start_time": "2025-04-03T17:45:10.450Z"
   },
   {
    "duration": 7,
    "start_time": "2025-04-03T17:45:10.460Z"
   },
   {
    "duration": 193,
    "start_time": "2025-04-03T17:45:10.469Z"
   },
   {
    "duration": 6,
    "start_time": "2025-04-03T17:45:10.664Z"
   },
   {
    "duration": 105,
    "start_time": "2025-04-03T17:45:10.672Z"
   },
   {
    "duration": 85,
    "start_time": "2025-04-03T17:45:10.779Z"
   },
   {
    "duration": 28,
    "start_time": "2025-04-03T17:45:10.866Z"
   },
   {
    "duration": 26,
    "start_time": "2025-04-03T17:45:10.896Z"
   },
   {
    "duration": 3,
    "start_time": "2025-04-03T17:45:10.926Z"
   },
   {
    "duration": 19,
    "start_time": "2025-04-03T17:45:10.930Z"
   },
   {
    "duration": 27,
    "start_time": "2025-04-03T17:45:10.950Z"
   },
   {
    "duration": 2,
    "start_time": "2025-04-03T17:45:10.979Z"
   },
   {
    "duration": 3,
    "start_time": "2025-04-03T17:45:11.012Z"
   },
   {
    "duration": 3,
    "start_time": "2025-04-03T17:45:11.016Z"
   },
   {
    "duration": 4,
    "start_time": "2025-04-03T17:45:11.020Z"
   },
   {
    "duration": 3,
    "start_time": "2025-04-03T17:45:11.025Z"
   },
   {
    "duration": 3,
    "start_time": "2025-04-03T17:45:11.030Z"
   },
   {
    "duration": 3,
    "start_time": "2025-04-03T17:45:11.034Z"
   },
   {
    "duration": 3,
    "start_time": "2025-04-03T17:45:11.039Z"
   },
   {
    "duration": 2,
    "start_time": "2025-04-03T17:45:11.044Z"
   },
   {
    "duration": 3,
    "start_time": "2025-04-03T17:45:11.048Z"
   },
   {
    "duration": 3,
    "start_time": "2025-04-03T17:45:11.052Z"
   },
   {
    "duration": 4,
    "start_time": "2025-04-03T17:45:11.056Z"
   },
   {
    "duration": 3,
    "start_time": "2025-04-03T17:45:11.061Z"
   },
   {
    "duration": 3,
    "start_time": "2025-04-03T17:45:11.066Z"
   },
   {
    "duration": 3,
    "start_time": "2025-04-03T17:45:11.112Z"
   },
   {
    "duration": 3,
    "start_time": "2025-04-03T17:45:11.117Z"
   },
   {
    "duration": 4,
    "start_time": "2025-04-03T17:45:11.121Z"
   },
   {
    "duration": 3,
    "start_time": "2025-04-03T17:45:11.126Z"
   },
   {
    "duration": 173,
    "start_time": "2025-04-03T17:45:19.844Z"
   },
   {
    "duration": 2,
    "start_time": "2025-04-03T17:45:27.390Z"
   },
   {
    "duration": 848,
    "start_time": "2025-04-03T17:45:28.630Z"
   },
   {
    "duration": 11,
    "start_time": "2025-04-03T17:45:30.711Z"
   },
   {
    "duration": 11,
    "start_time": "2025-04-03T17:45:32.489Z"
   },
   {
    "duration": 22,
    "start_time": "2025-04-03T17:45:36.788Z"
   },
   {
    "duration": 10,
    "start_time": "2025-04-03T17:45:38.524Z"
   },
   {
    "duration": 9,
    "start_time": "2025-04-03T17:45:40.314Z"
   },
   {
    "duration": 144,
    "start_time": "2025-04-03T17:45:44.020Z"
   },
   {
    "duration": 5,
    "start_time": "2025-04-03T17:45:52.353Z"
   },
   {
    "duration": 99,
    "start_time": "2025-04-03T17:46:00.380Z"
   },
   {
    "duration": 69,
    "start_time": "2025-04-03T17:46:06.815Z"
   },
   {
    "duration": 23,
    "start_time": "2025-04-03T17:46:14.815Z"
   },
   {
    "duration": 13,
    "start_time": "2025-04-03T17:46:27.387Z"
   },
   {
    "duration": 4,
    "start_time": "2025-04-03T17:46:31.912Z"
   },
   {
    "duration": 5,
    "start_time": "2025-04-03T17:47:04.676Z"
   },
   {
    "duration": 19,
    "start_time": "2025-04-03T17:47:08.431Z"
   },
   {
    "duration": 4,
    "start_time": "2025-04-03T17:54:11.494Z"
   },
   {
    "duration": 5,
    "start_time": "2025-04-03T17:54:35.440Z"
   },
   {
    "duration": 5,
    "start_time": "2025-04-03T17:54:50.217Z"
   },
   {
    "duration": 6,
    "start_time": "2025-04-03T17:55:23.237Z"
   },
   {
    "duration": 31,
    "start_time": "2025-04-03T17:57:26.707Z"
   },
   {
    "duration": 42,
    "start_time": "2025-04-03T17:57:33.315Z"
   },
   {
    "duration": 110,
    "start_time": "2025-04-03T18:04:27.070Z"
   },
   {
    "duration": 50,
    "start_time": "2025-04-03T18:07:04.061Z"
   },
   {
    "duration": 5,
    "start_time": "2025-04-03T18:08:26.335Z"
   },
   {
    "duration": 5,
    "start_time": "2025-04-03T18:10:42.686Z"
   },
   {
    "duration": 5,
    "start_time": "2025-04-03T18:13:09.014Z"
   },
   {
    "duration": 21,
    "start_time": "2025-04-03T18:13:30.762Z"
   },
   {
    "duration": 18,
    "start_time": "2025-04-03T18:14:20.603Z"
   },
   {
    "duration": 32,
    "start_time": "2025-04-03T18:16:34.517Z"
   },
   {
    "duration": 5,
    "start_time": "2025-04-03T18:23:51.150Z"
   },
   {
    "duration": 4,
    "start_time": "2025-04-03T18:24:45.604Z"
   },
   {
    "duration": 24,
    "start_time": "2025-04-03T18:26:48.971Z"
   },
   {
    "duration": 33,
    "start_time": "2025-04-03T18:33:27.964Z"
   },
   {
    "duration": 35,
    "start_time": "2025-04-03T18:37:26.777Z"
   },
   {
    "duration": 2423,
    "start_time": "2025-04-04T00:49:33.227Z"
   },
   {
    "duration": 1016,
    "start_time": "2025-04-04T00:49:35.653Z"
   },
   {
    "duration": 11,
    "start_time": "2025-04-04T00:49:36.671Z"
   },
   {
    "duration": 11,
    "start_time": "2025-04-04T00:49:36.685Z"
   },
   {
    "duration": 24,
    "start_time": "2025-04-04T00:49:36.705Z"
   },
   {
    "duration": 9,
    "start_time": "2025-04-04T00:49:36.732Z"
   },
   {
    "duration": 7,
    "start_time": "2025-04-04T00:49:36.743Z"
   },
   {
    "duration": 211,
    "start_time": "2025-04-04T00:49:36.752Z"
   },
   {
    "duration": 6,
    "start_time": "2025-04-04T00:49:36.964Z"
   },
   {
    "duration": 116,
    "start_time": "2025-04-04T00:49:36.974Z"
   },
   {
    "duration": 106,
    "start_time": "2025-04-04T00:49:37.091Z"
   },
   {
    "duration": 31,
    "start_time": "2025-04-04T00:49:37.199Z"
   },
   {
    "duration": 12,
    "start_time": "2025-04-04T00:49:37.232Z"
   },
   {
    "duration": 4,
    "start_time": "2025-04-04T00:49:37.246Z"
   },
   {
    "duration": 20,
    "start_time": "2025-04-04T00:49:37.251Z"
   },
   {
    "duration": 57,
    "start_time": "2025-04-04T00:49:37.272Z"
   },
   {
    "duration": 34,
    "start_time": "2025-04-04T00:49:37.331Z"
   },
   {
    "duration": 2,
    "start_time": "2025-04-04T00:49:37.367Z"
   },
   {
    "duration": 3,
    "start_time": "2025-04-04T00:49:37.371Z"
   },
   {
    "duration": 29,
    "start_time": "2025-04-04T00:49:37.376Z"
   },
   {
    "duration": 3,
    "start_time": "2025-04-04T00:49:37.407Z"
   },
   {
    "duration": 3,
    "start_time": "2025-04-04T00:49:37.412Z"
   },
   {
    "duration": 3,
    "start_time": "2025-04-04T00:49:37.417Z"
   },
   {
    "duration": 3,
    "start_time": "2025-04-04T00:49:37.421Z"
   },
   {
    "duration": 3,
    "start_time": "2025-04-04T00:49:37.426Z"
   },
   {
    "duration": 3,
    "start_time": "2025-04-04T00:49:37.431Z"
   },
   {
    "duration": 4,
    "start_time": "2025-04-04T00:49:37.435Z"
   },
   {
    "duration": 3,
    "start_time": "2025-04-04T00:49:37.443Z"
   },
   {
    "duration": 2,
    "start_time": "2025-04-04T00:49:37.449Z"
   },
   {
    "duration": 4,
    "start_time": "2025-04-04T00:49:37.453Z"
   },
   {
    "duration": 3,
    "start_time": "2025-04-04T00:49:37.458Z"
   },
   {
    "duration": 3,
    "start_time": "2025-04-04T00:49:37.505Z"
   },
   {
    "duration": 3,
    "start_time": "2025-04-04T00:49:37.510Z"
   },
   {
    "duration": 3,
    "start_time": "2025-04-04T00:49:37.515Z"
   },
   {
    "duration": 3,
    "start_time": "2025-04-04T00:49:37.520Z"
   },
   {
    "duration": 2,
    "start_time": "2025-04-04T00:49:50.848Z"
   },
   {
    "duration": 866,
    "start_time": "2025-04-04T00:49:53.006Z"
   },
   {
    "duration": 11,
    "start_time": "2025-04-04T00:49:54.915Z"
   },
   {
    "duration": 10,
    "start_time": "2025-04-04T00:49:55.948Z"
   },
   {
    "duration": 21,
    "start_time": "2025-04-04T00:50:00.849Z"
   },
   {
    "duration": 8,
    "start_time": "2025-04-04T00:50:08.082Z"
   },
   {
    "duration": 9,
    "start_time": "2025-04-04T00:50:09.315Z"
   },
   {
    "duration": 158,
    "start_time": "2025-04-04T00:50:17.942Z"
   },
   {
    "duration": 4,
    "start_time": "2025-04-04T00:50:20.879Z"
   },
   {
    "duration": 89,
    "start_time": "2025-04-04T00:50:23.176Z"
   },
   {
    "duration": 84,
    "start_time": "2025-04-04T00:50:23.982Z"
   },
   {
    "duration": 28,
    "start_time": "2025-04-04T00:50:24.619Z"
   },
   {
    "duration": 12,
    "start_time": "2025-04-04T00:50:26.902Z"
   },
   {
    "duration": 4,
    "start_time": "2025-04-04T00:50:27.549Z"
   },
   {
    "duration": 19,
    "start_time": "2025-04-04T00:50:28.372Z"
   },
   {
    "duration": 25,
    "start_time": "2025-04-04T00:50:29.106Z"
   },
   {
    "duration": 32,
    "start_time": "2025-04-04T00:50:30.230Z"
   },
   {
    "duration": 11,
    "start_time": "2025-04-04T00:51:22.582Z"
   },
   {
    "duration": 5,
    "start_time": "2025-04-04T00:51:54.545Z"
   },
   {
    "duration": 599,
    "start_time": "2025-04-04T00:55:32.046Z"
   },
   {
    "duration": 3,
    "start_time": "2025-04-04T00:55:41.689Z"
   },
   {
    "duration": 3,
    "start_time": "2025-04-04T00:55:58.598Z"
   },
   {
    "duration": 3,
    "start_time": "2025-04-04T00:56:10.183Z"
   },
   {
    "duration": 4,
    "start_time": "2025-04-04T00:59:50.581Z"
   },
   {
    "duration": 39,
    "start_time": "2025-04-04T01:00:30.881Z"
   },
   {
    "duration": 38,
    "start_time": "2025-04-04T01:00:35.226Z"
   },
   {
    "duration": 4,
    "start_time": "2025-04-04T01:01:21.106Z"
   },
   {
    "duration": 790,
    "start_time": "2025-04-04T01:06:01.828Z"
   },
   {
    "duration": 77,
    "start_time": "2025-04-04T01:07:11.431Z"
   },
   {
    "duration": 2150,
    "start_time": "2025-04-04T21:35:55.470Z"
   },
   {
    "duration": 1008,
    "start_time": "2025-04-04T21:35:59.919Z"
   },
   {
    "duration": 11,
    "start_time": "2025-04-04T21:36:03.755Z"
   },
   {
    "duration": 9,
    "start_time": "2025-04-04T21:36:06.192Z"
   },
   {
    "duration": 22,
    "start_time": "2025-04-04T21:36:08.241Z"
   },
   {
    "duration": 8,
    "start_time": "2025-04-04T21:36:10.181Z"
   },
   {
    "duration": 8,
    "start_time": "2025-04-04T21:36:12.339Z"
   },
   {
    "duration": 157,
    "start_time": "2025-04-04T21:36:16.987Z"
   },
   {
    "duration": 6,
    "start_time": "2025-04-04T21:36:20.473Z"
   },
   {
    "duration": 96,
    "start_time": "2025-04-04T21:36:23.927Z"
   },
   {
    "duration": 82,
    "start_time": "2025-04-04T21:36:26.359Z"
   },
   {
    "duration": 27,
    "start_time": "2025-04-04T21:36:29.239Z"
   },
   {
    "duration": 12,
    "start_time": "2025-04-04T21:36:32.028Z"
   },
   {
    "duration": 3,
    "start_time": "2025-04-04T21:36:33.793Z"
   },
   {
    "duration": 21,
    "start_time": "2025-04-04T21:36:35.854Z"
   },
   {
    "duration": 25,
    "start_time": "2025-04-04T21:36:40.387Z"
   },
   {
    "duration": 33,
    "start_time": "2025-04-04T21:36:43.286Z"
   },
   {
    "duration": 4,
    "start_time": "2025-04-04T21:36:46.751Z"
   },
   {
    "duration": 3,
    "start_time": "2025-04-04T21:36:48.073Z"
   },
   {
    "duration": 3,
    "start_time": "2025-04-04T21:36:50.240Z"
   },
   {
    "duration": 3,
    "start_time": "2025-04-04T21:36:51.785Z"
   },
   {
    "duration": 785,
    "start_time": "2025-04-04T21:36:54.607Z"
   },
   {
    "duration": 69,
    "start_time": "2025-04-04T21:36:56.555Z"
   },
   {
    "duration": 72,
    "start_time": "2025-04-04T21:37:18.480Z"
   },
   {
    "duration": 85,
    "start_time": "2025-04-04T21:37:55.084Z"
   },
   {
    "duration": 83,
    "start_time": "2025-04-04T21:41:07.753Z"
   },
   {
    "duration": 33,
    "start_time": "2025-04-04T21:41:27.235Z"
   },
   {
    "duration": 144,
    "start_time": "2025-04-04T21:42:08.800Z"
   },
   {
    "duration": 4,
    "start_time": "2025-04-04T21:43:08.736Z"
   },
   {
    "duration": 135,
    "start_time": "2025-04-04T21:53:56.751Z"
   },
   {
    "duration": 4,
    "start_time": "2025-04-04T21:57:13.116Z"
   },
   {
    "duration": 229,
    "start_time": "2025-04-04T21:57:34.621Z"
   },
   {
    "duration": 6,
    "start_time": "2025-04-04T21:58:28.642Z"
   },
   {
    "duration": 6,
    "start_time": "2025-04-04T21:58:49.531Z"
   },
   {
    "duration": 5,
    "start_time": "2025-04-04T21:58:56.006Z"
   },
   {
    "duration": 5,
    "start_time": "2025-04-04T21:59:00.131Z"
   },
   {
    "duration": 5,
    "start_time": "2025-04-04T21:59:06.547Z"
   },
   {
    "duration": 5,
    "start_time": "2025-04-04T21:59:22.139Z"
   },
   {
    "duration": 6,
    "start_time": "2025-04-04T22:00:28.302Z"
   },
   {
    "duration": 6,
    "start_time": "2025-04-04T22:00:48.169Z"
   },
   {
    "duration": 17,
    "start_time": "2025-04-04T22:03:21.858Z"
   },
   {
    "duration": 26,
    "start_time": "2025-04-04T22:03:50.718Z"
   },
   {
    "duration": 17,
    "start_time": "2025-04-04T22:04:36.866Z"
   },
   {
    "duration": 413,
    "start_time": "2025-04-04T22:12:02.995Z"
   },
   {
    "duration": 19,
    "start_time": "2025-04-04T22:12:57.922Z"
   },
   {
    "duration": 19,
    "start_time": "2025-04-04T22:13:33.119Z"
   },
   {
    "duration": 23,
    "start_time": "2025-04-04T22:13:57.787Z"
   },
   {
    "duration": 20,
    "start_time": "2025-04-04T22:14:06.431Z"
   },
   {
    "duration": 24,
    "start_time": "2025-04-04T22:18:26.530Z"
   },
   {
    "duration": 24,
    "start_time": "2025-04-04T22:20:10.955Z"
   },
   {
    "duration": 25,
    "start_time": "2025-04-04T22:20:54.258Z"
   },
   {
    "duration": 6,
    "start_time": "2025-04-04T22:22:16.336Z"
   },
   {
    "duration": 7,
    "start_time": "2025-04-04T22:27:02.619Z"
   },
   {
    "duration": 9,
    "start_time": "2025-04-04T22:28:09.755Z"
   },
   {
    "duration": 8,
    "start_time": "2025-04-04T22:29:45.448Z"
   },
   {
    "duration": 9,
    "start_time": "2025-04-04T22:29:49.689Z"
   },
   {
    "duration": 14,
    "start_time": "2025-04-04T22:48:58.972Z"
   },
   {
    "duration": 250,
    "start_time": "2025-04-04T22:50:01.978Z"
   },
   {
    "duration": 4,
    "start_time": "2025-04-04T22:50:13.295Z"
   },
   {
    "duration": 3,
    "start_time": "2025-04-04T22:53:26.655Z"
   },
   {
    "duration": 2,
    "start_time": "2025-04-04T22:53:39.883Z"
   },
   {
    "duration": 3,
    "start_time": "2025-04-04T22:55:19.245Z"
   },
   {
    "duration": 67,
    "start_time": "2025-04-04T22:56:20.882Z"
   },
   {
    "duration": 37,
    "start_time": "2025-04-04T22:56:39.052Z"
   },
   {
    "duration": 5,
    "start_time": "2025-04-04T23:17:03.084Z"
   },
   {
    "duration": 7,
    "start_time": "2025-04-04T23:28:39.282Z"
   },
   {
    "duration": 2066,
    "start_time": "2025-04-05T04:02:21.011Z"
   },
   {
    "duration": 1024,
    "start_time": "2025-04-05T04:02:25.326Z"
   },
   {
    "duration": 12,
    "start_time": "2025-04-05T04:02:28.304Z"
   },
   {
    "duration": 10,
    "start_time": "2025-04-05T04:02:30.091Z"
   },
   {
    "duration": 24,
    "start_time": "2025-04-05T04:02:32.175Z"
   },
   {
    "duration": 10,
    "start_time": "2025-04-05T04:02:34.527Z"
   },
   {
    "duration": 9,
    "start_time": "2025-04-05T04:02:36.426Z"
   },
   {
    "duration": 168,
    "start_time": "2025-04-05T04:02:40.639Z"
   },
   {
    "duration": 6,
    "start_time": "2025-04-05T04:02:42.833Z"
   },
   {
    "duration": 97,
    "start_time": "2025-04-05T04:02:45.067Z"
   },
   {
    "duration": 97,
    "start_time": "2025-04-05T04:02:48.081Z"
   },
   {
    "duration": 72,
    "start_time": "2025-04-05T04:02:49.624Z"
   },
   {
    "duration": 23,
    "start_time": "2025-04-05T04:02:51.026Z"
   },
   {
    "duration": 12,
    "start_time": "2025-04-05T04:02:53.330Z"
   },
   {
    "duration": 4,
    "start_time": "2025-04-05T04:02:54.856Z"
   },
   {
    "duration": 19,
    "start_time": "2025-04-05T04:02:58.316Z"
   },
   {
    "duration": 23,
    "start_time": "2025-04-05T04:02:59.622Z"
   },
   {
    "duration": 33,
    "start_time": "2025-04-05T04:03:01.616Z"
   },
   {
    "duration": 4,
    "start_time": "2025-04-05T04:03:04.432Z"
   },
   {
    "duration": 3,
    "start_time": "2025-04-05T04:03:05.879Z"
   },
   {
    "duration": 4,
    "start_time": "2025-04-05T04:03:08.308Z"
   },
   {
    "duration": 4,
    "start_time": "2025-04-05T04:03:10.562Z"
   },
   {
    "duration": 729,
    "start_time": "2025-04-05T04:03:12.932Z"
   },
   {
    "duration": 88,
    "start_time": "2025-04-05T04:03:15.063Z"
   },
   {
    "duration": 9,
    "start_time": "2025-04-05T04:03:21.756Z"
   },
   {
    "duration": 6,
    "start_time": "2025-04-05T04:03:32.325Z"
   },
   {
    "duration": 7,
    "start_time": "2025-04-05T04:03:51.212Z"
   },
   {
    "duration": 179,
    "start_time": "2025-04-05T04:04:25.415Z"
   },
   {
    "duration": 6,
    "start_time": "2025-04-05T04:05:29.200Z"
   },
   {
    "duration": 5,
    "start_time": "2025-04-05T04:07:45.909Z"
   },
   {
    "duration": 5,
    "start_time": "2025-04-05T04:08:07.624Z"
   },
   {
    "duration": 9,
    "start_time": "2025-04-05T04:32:02.586Z"
   },
   {
    "duration": 6,
    "start_time": "2025-04-05T04:34:07.270Z"
   },
   {
    "duration": 3,
    "start_time": "2025-04-05T04:34:26.389Z"
   },
   {
    "duration": 7,
    "start_time": "2025-04-05T04:34:34.463Z"
   },
   {
    "duration": 7,
    "start_time": "2025-04-05T04:54:55.201Z"
   },
   {
    "duration": 40,
    "start_time": "2025-04-05T04:55:46.823Z"
   },
   {
    "duration": 29,
    "start_time": "2025-04-05T04:55:59.291Z"
   },
   {
    "duration": 15,
    "start_time": "2025-04-05T05:00:10.352Z"
   },
   {
    "duration": 54,
    "start_time": "2025-04-05T05:20:18.565Z"
   },
   {
    "duration": 17,
    "start_time": "2025-04-05T05:20:26.706Z"
   },
   {
    "duration": 32,
    "start_time": "2025-04-05T05:20:43.843Z"
   },
   {
    "duration": 22,
    "start_time": "2025-04-05T06:08:47.276Z"
   },
   {
    "duration": 8,
    "start_time": "2025-04-05T06:08:53.286Z"
   },
   {
    "duration": 6,
    "start_time": "2025-04-05T06:09:10.735Z"
   },
   {
    "duration": 5,
    "start_time": "2025-04-05T06:20:11.704Z"
   },
   {
    "duration": 5,
    "start_time": "2025-04-05T06:26:47.803Z"
   },
   {
    "duration": 6,
    "start_time": "2025-04-05T06:27:47.815Z"
   },
   {
    "duration": 6,
    "start_time": "2025-04-05T06:28:02.381Z"
   },
   {
    "duration": 4,
    "start_time": "2025-04-05T06:28:53.392Z"
   },
   {
    "duration": 4,
    "start_time": "2025-04-05T06:29:00.576Z"
   },
   {
    "duration": 4,
    "start_time": "2025-04-05T06:46:41.429Z"
   },
   {
    "duration": 4,
    "start_time": "2025-04-05T06:46:46.432Z"
   },
   {
    "duration": 4,
    "start_time": "2025-04-05T06:51:50.925Z"
   },
   {
    "duration": 20,
    "start_time": "2025-04-05T06:51:56.587Z"
   },
   {
    "duration": 17,
    "start_time": "2025-04-05T06:52:54.341Z"
   },
   {
    "duration": 33,
    "start_time": "2025-04-05T06:53:21.352Z"
   },
   {
    "duration": 22,
    "start_time": "2025-04-05T07:10:04.189Z"
   },
   {
    "duration": 12,
    "start_time": "2025-04-05T07:10:08.518Z"
   },
   {
    "duration": 12,
    "start_time": "2025-04-05T07:10:18.952Z"
   },
   {
    "duration": 5,
    "start_time": "2025-04-05T07:10:35.443Z"
   },
   {
    "duration": 11,
    "start_time": "2025-04-05T07:10:49.909Z"
   },
   {
    "duration": 44,
    "start_time": "2025-04-05T07:11:28.982Z"
   },
   {
    "duration": 8,
    "start_time": "2025-04-05T07:11:50.474Z"
   },
   {
    "duration": 8,
    "start_time": "2025-04-05T07:12:50.697Z"
   },
   {
    "duration": 9,
    "start_time": "2025-04-05T07:13:57.250Z"
   },
   {
    "duration": 8,
    "start_time": "2025-04-05T07:14:10.027Z"
   },
   {
    "duration": 8,
    "start_time": "2025-04-05T07:15:55.324Z"
   },
   {
    "duration": 8,
    "start_time": "2025-04-05T07:15:56.536Z"
   },
   {
    "duration": 8,
    "start_time": "2025-04-05T07:15:57.996Z"
   },
   {
    "duration": 10,
    "start_time": "2025-04-05T07:16:18.121Z"
   },
   {
    "duration": 10,
    "start_time": "2025-04-05T07:16:39.397Z"
   },
   {
    "duration": 9,
    "start_time": "2025-04-05T07:16:49.547Z"
   },
   {
    "duration": 6,
    "start_time": "2025-04-05T07:21:38.636Z"
   },
   {
    "duration": 15,
    "start_time": "2025-04-05T07:21:43.083Z"
   },
   {
    "duration": 12,
    "start_time": "2025-04-05T07:26:14.604Z"
   },
   {
    "duration": 13,
    "start_time": "2025-04-05T07:26:35.287Z"
   },
   {
    "duration": 5,
    "start_time": "2025-04-05T07:26:36.776Z"
   },
   {
    "duration": 2,
    "start_time": "2025-04-05T07:30:46.424Z"
   },
   {
    "duration": 2,
    "start_time": "2025-04-05T07:30:56.411Z"
   },
   {
    "duration": 178,
    "start_time": "2025-04-05T07:31:00.477Z"
   },
   {
    "duration": 3,
    "start_time": "2025-04-05T07:31:04.178Z"
   },
   {
    "duration": 3,
    "start_time": "2025-04-05T07:32:52.760Z"
   },
   {
    "duration": 3,
    "start_time": "2025-04-05T07:33:00.082Z"
   },
   {
    "duration": 167,
    "start_time": "2025-04-05T07:34:37.949Z"
   },
   {
    "duration": 14,
    "start_time": "2025-04-05T07:35:20.289Z"
   },
   {
    "duration": 16,
    "start_time": "2025-04-05T07:41:49.988Z"
   },
   {
    "duration": 411,
    "start_time": "2025-04-05T07:43:15.505Z"
   },
   {
    "duration": 953,
    "start_time": "2025-04-05T07:43:15.918Z"
   },
   {
    "duration": 12,
    "start_time": "2025-04-05T07:43:16.872Z"
   },
   {
    "duration": 10,
    "start_time": "2025-04-05T07:43:16.886Z"
   },
   {
    "duration": 36,
    "start_time": "2025-04-05T07:43:16.899Z"
   },
   {
    "duration": 8,
    "start_time": "2025-04-05T07:43:16.936Z"
   },
   {
    "duration": 7,
    "start_time": "2025-04-05T07:43:16.946Z"
   },
   {
    "duration": 189,
    "start_time": "2025-04-05T07:43:16.955Z"
   },
   {
    "duration": 5,
    "start_time": "2025-04-05T07:43:17.146Z"
   },
   {
    "duration": 106,
    "start_time": "2025-04-05T07:43:17.153Z"
   },
   {
    "duration": 88,
    "start_time": "2025-04-05T07:43:17.260Z"
   },
   {
    "duration": 28,
    "start_time": "2025-04-05T07:43:17.349Z"
   },
   {
    "duration": 12,
    "start_time": "2025-04-05T07:43:17.379Z"
   },
   {
    "duration": 3,
    "start_time": "2025-04-05T07:43:17.395Z"
   },
   {
    "duration": 45,
    "start_time": "2025-04-05T07:43:17.400Z"
   },
   {
    "duration": 22,
    "start_time": "2025-04-05T07:43:17.447Z"
   },
   {
    "duration": 31,
    "start_time": "2025-04-05T07:43:17.471Z"
   },
   {
    "duration": 3,
    "start_time": "2025-04-05T07:43:17.504Z"
   },
   {
    "duration": 23,
    "start_time": "2025-04-05T07:43:17.509Z"
   },
   {
    "duration": 3,
    "start_time": "2025-04-05T07:43:17.533Z"
   },
   {
    "duration": 3,
    "start_time": "2025-04-05T07:43:17.538Z"
   },
   {
    "duration": 732,
    "start_time": "2025-04-05T07:43:17.543Z"
   },
   {
    "duration": 113,
    "start_time": "2025-04-05T07:43:18.276Z"
   },
   {
    "duration": 8,
    "start_time": "2025-04-05T07:43:18.391Z"
   },
   {
    "duration": 4,
    "start_time": "2025-04-05T07:43:18.400Z"
   },
   {
    "duration": 3,
    "start_time": "2025-04-05T07:43:18.405Z"
   },
   {
    "duration": 21,
    "start_time": "2025-04-05T07:43:18.410Z"
   },
   {
    "duration": 7,
    "start_time": "2025-04-05T07:43:18.433Z"
   },
   {
    "duration": 6,
    "start_time": "2025-04-05T07:43:18.442Z"
   },
   {
    "duration": 2,
    "start_time": "2025-04-05T07:43:18.449Z"
   },
   {
    "duration": 43,
    "start_time": "2025-04-05T07:43:18.452Z"
   },
   {
    "duration": 40,
    "start_time": "2025-04-05T07:43:18.497Z"
   },
   {
    "duration": 30,
    "start_time": "2025-04-05T07:43:18.539Z"
   },
   {
    "duration": 11,
    "start_time": "2025-04-05T07:43:18.571Z"
   },
   {
    "duration": 5,
    "start_time": "2025-04-05T07:43:18.584Z"
   },
   {
    "duration": 64,
    "start_time": "2025-04-05T07:43:18.590Z"
   },
   {
    "duration": 14,
    "start_time": "2025-04-05T07:43:18.655Z"
   },
   {
    "duration": 14,
    "start_time": "2025-04-05T07:43:18.671Z"
   },
   {
    "duration": 404,
    "start_time": "2025-04-05T07:53:32.315Z"
   },
   {
    "duration": 1044,
    "start_time": "2025-04-05T07:53:36.233Z"
   },
   {
    "duration": 11,
    "start_time": "2025-04-05T07:53:40.805Z"
   },
   {
    "duration": 10,
    "start_time": "2025-04-05T07:53:42.434Z"
   },
   {
    "duration": 179,
    "start_time": "2025-04-05T07:53:48.047Z"
   },
   {
    "duration": 11,
    "start_time": "2025-04-05T07:53:53.420Z"
   },
   {
    "duration": 2,
    "start_time": "2025-04-05T07:53:58.801Z"
   },
   {
    "duration": 858,
    "start_time": "2025-04-05T07:53:59.996Z"
   },
   {
    "duration": 15,
    "start_time": "2025-04-05T07:54:02.022Z"
   },
   {
    "duration": 10,
    "start_time": "2025-04-05T07:54:03.836Z"
   },
   {
    "duration": 21,
    "start_time": "2025-04-05T07:54:05.636Z"
   },
   {
    "duration": 8,
    "start_time": "2025-04-05T07:54:07.329Z"
   },
   {
    "duration": 22,
    "start_time": "2025-04-05T07:54:11.929Z"
   },
   {
    "duration": 9,
    "start_time": "2025-04-05T07:54:12.868Z"
   },
   {
    "duration": 8,
    "start_time": "2025-04-05T07:54:13.383Z"
   },
   {
    "duration": 142,
    "start_time": "2025-04-05T07:54:16.503Z"
   },
   {
    "duration": 5,
    "start_time": "2025-04-05T07:54:17.484Z"
   },
   {
    "duration": 80,
    "start_time": "2025-04-05T07:54:19.461Z"
   },
   {
    "duration": 74,
    "start_time": "2025-04-05T07:54:19.937Z"
   },
   {
    "duration": 23,
    "start_time": "2025-04-05T07:54:20.456Z"
   },
   {
    "duration": 17,
    "start_time": "2025-04-05T07:54:21.943Z"
   },
   {
    "duration": 3,
    "start_time": "2025-04-05T07:54:22.839Z"
   },
   {
    "duration": 19,
    "start_time": "2025-04-05T07:54:26.201Z"
   },
   {
    "duration": 22,
    "start_time": "2025-04-05T07:54:26.962Z"
   },
   {
    "duration": 33,
    "start_time": "2025-04-05T07:54:27.958Z"
   },
   {
    "duration": 4,
    "start_time": "2025-04-05T07:54:30.938Z"
   },
   {
    "duration": 4,
    "start_time": "2025-04-05T07:54:31.705Z"
   },
   {
    "duration": 4,
    "start_time": "2025-04-05T07:54:33.464Z"
   },
   {
    "duration": 5,
    "start_time": "2025-04-05T07:54:33.846Z"
   },
   {
    "duration": 675,
    "start_time": "2025-04-05T07:54:36.457Z"
   },
   {
    "duration": 78,
    "start_time": "2025-04-05T07:54:37.280Z"
   },
   {
    "duration": 9,
    "start_time": "2025-04-05T07:54:40.637Z"
   },
   {
    "duration": 2,
    "start_time": "2025-04-05T07:54:41.789Z"
   },
   {
    "duration": 2,
    "start_time": "2025-04-05T07:54:42.500Z"
   },
   {
    "duration": 5,
    "start_time": "2025-04-05T07:54:43.393Z"
   },
   {
    "duration": 8,
    "start_time": "2025-04-05T07:54:44.682Z"
   },
   {
    "duration": 6,
    "start_time": "2025-04-05T07:54:46.733Z"
   },
   {
    "duration": 2,
    "start_time": "2025-04-05T07:54:47.671Z"
   },
   {
    "duration": 41,
    "start_time": "2025-04-05T07:54:48.205Z"
   },
   {
    "duration": 15,
    "start_time": "2025-04-05T07:54:50.214Z"
   },
   {
    "duration": 31,
    "start_time": "2025-04-05T07:54:50.687Z"
   },
   {
    "duration": 12,
    "start_time": "2025-04-05T07:54:51.618Z"
   },
   {
    "duration": 4,
    "start_time": "2025-04-05T07:54:52.223Z"
   },
   {
    "duration": 30,
    "start_time": "2025-04-05T07:54:53.432Z"
   },
   {
    "duration": 14,
    "start_time": "2025-04-05T07:54:59.597Z"
   },
   {
    "duration": 13,
    "start_time": "2025-04-05T07:55:00.970Z"
   },
   {
    "duration": 411,
    "start_time": "2025-04-05T07:58:51.181Z"
   },
   {
    "duration": 3,
    "start_time": "2025-04-05T07:58:54.188Z"
   },
   {
    "duration": 889,
    "start_time": "2025-04-05T07:58:54.800Z"
   },
   {
    "duration": 12,
    "start_time": "2025-04-05T07:58:55.691Z"
   },
   {
    "duration": 10,
    "start_time": "2025-04-05T07:58:57.125Z"
   },
   {
    "duration": 24,
    "start_time": "2025-04-05T07:58:59.301Z"
   },
   {
    "duration": 9,
    "start_time": "2025-04-05T07:59:00.055Z"
   },
   {
    "duration": 9,
    "start_time": "2025-04-05T07:59:00.788Z"
   },
   {
    "duration": 165,
    "start_time": "2025-04-05T07:59:03.787Z"
   },
   {
    "duration": 7,
    "start_time": "2025-04-05T07:59:04.697Z"
   },
   {
    "duration": 103,
    "start_time": "2025-04-05T07:59:05.507Z"
   },
   {
    "duration": 87,
    "start_time": "2025-04-05T07:59:05.963Z"
   },
   {
    "duration": 33,
    "start_time": "2025-04-05T07:59:06.447Z"
   },
   {
    "duration": 12,
    "start_time": "2025-04-05T07:59:07.969Z"
   },
   {
    "duration": 4,
    "start_time": "2025-04-05T07:59:08.531Z"
   },
   {
    "duration": 18,
    "start_time": "2025-04-05T07:59:09.138Z"
   },
   {
    "duration": 23,
    "start_time": "2025-04-05T07:59:09.707Z"
   },
   {
    "duration": 34,
    "start_time": "2025-04-05T07:59:10.383Z"
   },
   {
    "duration": 3,
    "start_time": "2025-04-05T07:59:11.727Z"
   },
   {
    "duration": 6,
    "start_time": "2025-04-05T07:59:11.954Z"
   },
   {
    "duration": 3,
    "start_time": "2025-04-05T07:59:12.624Z"
   },
   {
    "duration": 4,
    "start_time": "2025-04-05T07:59:12.836Z"
   },
   {
    "duration": 704,
    "start_time": "2025-04-05T07:59:13.465Z"
   },
   {
    "duration": 104,
    "start_time": "2025-04-05T07:59:14.171Z"
   },
   {
    "duration": 8,
    "start_time": "2025-04-05T07:59:14.499Z"
   },
   {
    "duration": 3,
    "start_time": "2025-04-05T07:59:14.896Z"
   },
   {
    "duration": 2,
    "start_time": "2025-04-05T07:59:15.309Z"
   },
   {
    "duration": 4,
    "start_time": "2025-04-05T07:59:15.700Z"
   },
   {
    "duration": 8,
    "start_time": "2025-04-05T07:59:16.075Z"
   },
   {
    "duration": 6,
    "start_time": "2025-04-05T07:59:16.689Z"
   },
   {
    "duration": 2,
    "start_time": "2025-04-05T07:59:16.866Z"
   },
   {
    "duration": 41,
    "start_time": "2025-04-05T07:59:17.065Z"
   },
   {
    "duration": 18,
    "start_time": "2025-04-05T07:59:18.210Z"
   },
   {
    "duration": 30,
    "start_time": "2025-04-05T07:59:18.416Z"
   },
   {
    "duration": 11,
    "start_time": "2025-04-05T07:59:18.779Z"
   },
   {
    "duration": 4,
    "start_time": "2025-04-05T07:59:18.971Z"
   },
   {
    "duration": 34,
    "start_time": "2025-04-05T07:59:19.363Z"
   },
   {
    "duration": 13,
    "start_time": "2025-04-05T07:59:25.727Z"
   },
   {
    "duration": 14,
    "start_time": "2025-04-05T08:02:14.353Z"
   },
   {
    "duration": 157,
    "start_time": "2025-04-05T08:07:24.041Z"
   },
   {
    "duration": 12,
    "start_time": "2025-04-05T08:07:29.891Z"
   },
   {
    "duration": 14,
    "start_time": "2025-04-05T08:07:33.666Z"
   },
   {
    "duration": 429,
    "start_time": "2025-04-05T08:07:42.019Z"
   },
   {
    "duration": 998,
    "start_time": "2025-04-05T08:07:43.680Z"
   },
   {
    "duration": 11,
    "start_time": "2025-04-05T08:07:44.680Z"
   },
   {
    "duration": 9,
    "start_time": "2025-04-05T08:07:44.693Z"
   },
   {
    "duration": 24,
    "start_time": "2025-04-05T08:07:44.737Z"
   },
   {
    "duration": 8,
    "start_time": "2025-04-05T08:07:44.958Z"
   },
   {
    "duration": 9,
    "start_time": "2025-04-05T08:07:45.192Z"
   },
   {
    "duration": 166,
    "start_time": "2025-04-05T08:07:46.707Z"
   },
   {
    "duration": 6,
    "start_time": "2025-04-05T08:07:47.079Z"
   },
   {
    "duration": 96,
    "start_time": "2025-04-05T08:07:47.424Z"
   },
   {
    "duration": 84,
    "start_time": "2025-04-05T08:07:47.574Z"
   },
   {
    "duration": 28,
    "start_time": "2025-04-05T08:07:47.745Z"
   },
   {
    "duration": 12,
    "start_time": "2025-04-05T08:07:48.286Z"
   },
   {
    "duration": 4,
    "start_time": "2025-04-05T08:07:48.449Z"
   },
   {
    "duration": 18,
    "start_time": "2025-04-05T08:07:48.620Z"
   },
   {
    "duration": 22,
    "start_time": "2025-04-05T08:07:48.785Z"
   },
   {
    "duration": 31,
    "start_time": "2025-04-05T08:07:48.954Z"
   },
   {
    "duration": 3,
    "start_time": "2025-04-05T08:07:49.488Z"
   },
   {
    "duration": 3,
    "start_time": "2025-04-05T08:07:49.644Z"
   },
   {
    "duration": 4,
    "start_time": "2025-04-05T08:07:50.213Z"
   },
   {
    "duration": 3,
    "start_time": "2025-04-05T08:07:50.355Z"
   },
   {
    "duration": 773,
    "start_time": "2025-04-05T08:07:50.893Z"
   },
   {
    "duration": 131,
    "start_time": "2025-04-05T08:07:51.669Z"
   },
   {
    "duration": 8,
    "start_time": "2025-04-05T08:07:51.802Z"
   },
   {
    "duration": 2,
    "start_time": "2025-04-05T08:07:52.149Z"
   },
   {
    "duration": 3,
    "start_time": "2025-04-05T08:07:52.497Z"
   },
   {
    "duration": 6,
    "start_time": "2025-04-05T08:07:52.874Z"
   },
   {
    "duration": 7,
    "start_time": "2025-04-05T08:07:53.201Z"
   },
   {
    "duration": 6,
    "start_time": "2025-04-05T08:07:53.730Z"
   },
   {
    "duration": 2,
    "start_time": "2025-04-05T08:07:53.912Z"
   },
   {
    "duration": 41,
    "start_time": "2025-04-05T08:07:54.097Z"
   },
   {
    "duration": 18,
    "start_time": "2025-04-05T08:07:54.612Z"
   },
   {
    "duration": 30,
    "start_time": "2025-04-05T08:07:54.794Z"
   },
   {
    "duration": 12,
    "start_time": "2025-04-05T08:07:55.157Z"
   },
   {
    "duration": 5,
    "start_time": "2025-04-05T08:07:55.348Z"
   },
   {
    "duration": 34,
    "start_time": "2025-04-05T08:07:55.705Z"
   },
   {
    "duration": 16,
    "start_time": "2025-04-05T08:08:00.899Z"
   },
   {
    "duration": 15,
    "start_time": "2025-04-05T08:08:02.806Z"
   },
   {
    "duration": 397,
    "start_time": "2025-04-05T08:10:28.194Z"
   },
   {
    "duration": 1016,
    "start_time": "2025-04-05T08:10:28.593Z"
   },
   {
    "duration": 12,
    "start_time": "2025-04-05T08:10:29.611Z"
   },
   {
    "duration": 9,
    "start_time": "2025-04-05T08:10:29.630Z"
   },
   {
    "duration": 22,
    "start_time": "2025-04-05T08:10:29.640Z"
   },
   {
    "duration": 7,
    "start_time": "2025-04-05T08:10:29.664Z"
   },
   {
    "duration": 7,
    "start_time": "2025-04-05T08:10:29.673Z"
   },
   {
    "duration": 194,
    "start_time": "2025-04-05T08:10:29.682Z"
   },
   {
    "duration": 5,
    "start_time": "2025-04-05T08:10:29.878Z"
   },
   {
    "duration": 105,
    "start_time": "2025-04-05T08:10:29.887Z"
   },
   {
    "duration": 90,
    "start_time": "2025-04-05T08:10:29.993Z"
   },
   {
    "duration": 26,
    "start_time": "2025-04-05T08:10:30.085Z"
   },
   {
    "duration": 20,
    "start_time": "2025-04-05T08:10:30.113Z"
   },
   {
    "duration": 3,
    "start_time": "2025-04-05T08:10:30.135Z"
   },
   {
    "duration": 26,
    "start_time": "2025-04-05T08:10:30.140Z"
   },
   {
    "duration": 22,
    "start_time": "2025-04-05T08:10:30.167Z"
   },
   {
    "duration": 53,
    "start_time": "2025-04-05T08:10:30.191Z"
   },
   {
    "duration": 4,
    "start_time": "2025-04-05T08:10:30.245Z"
   },
   {
    "duration": 3,
    "start_time": "2025-04-05T08:10:30.251Z"
   },
   {
    "duration": 4,
    "start_time": "2025-04-05T08:10:30.256Z"
   },
   {
    "duration": 3,
    "start_time": "2025-04-05T08:10:30.261Z"
   },
   {
    "duration": 775,
    "start_time": "2025-04-05T08:10:30.266Z"
   },
   {
    "duration": 114,
    "start_time": "2025-04-05T08:10:31.042Z"
   },
   {
    "duration": 10,
    "start_time": "2025-04-05T08:10:31.157Z"
   },
   {
    "duration": 3,
    "start_time": "2025-04-05T08:10:31.168Z"
   },
   {
    "duration": 3,
    "start_time": "2025-04-05T08:10:31.173Z"
   },
   {
    "duration": 6,
    "start_time": "2025-04-05T08:10:31.177Z"
   },
   {
    "duration": 6,
    "start_time": "2025-04-05T08:10:31.186Z"
   },
   {
    "duration": 6,
    "start_time": "2025-04-05T08:10:31.194Z"
   },
   {
    "duration": 2,
    "start_time": "2025-04-05T08:10:31.232Z"
   },
   {
    "duration": 42,
    "start_time": "2025-04-05T08:10:31.235Z"
   },
   {
    "duration": 16,
    "start_time": "2025-04-05T08:10:31.279Z"
   },
   {
    "duration": 55,
    "start_time": "2025-04-05T08:10:31.296Z"
   },
   {
    "duration": 11,
    "start_time": "2025-04-05T08:10:31.353Z"
   },
   {
    "duration": 4,
    "start_time": "2025-04-05T08:10:31.367Z"
   },
   {
    "duration": 34,
    "start_time": "2025-04-05T08:10:31.373Z"
   },
   {
    "duration": 30,
    "start_time": "2025-04-05T08:10:31.409Z"
   },
   {
    "duration": 15,
    "start_time": "2025-04-05T08:10:31.441Z"
   },
   {
    "duration": 156,
    "start_time": "2025-04-05T08:13:11.161Z"
   },
   {
    "duration": 430,
    "start_time": "2025-04-05T08:13:15.622Z"
   },
   {
    "duration": 1081,
    "start_time": "2025-04-05T08:13:16.054Z"
   },
   {
    "duration": 11,
    "start_time": "2025-04-05T08:13:17.137Z"
   },
   {
    "duration": 10,
    "start_time": "2025-04-05T08:13:17.150Z"
   },
   {
    "duration": 22,
    "start_time": "2025-04-05T08:13:17.162Z"
   },
   {
    "duration": 8,
    "start_time": "2025-04-05T08:13:17.186Z"
   },
   {
    "duration": 35,
    "start_time": "2025-04-05T08:13:17.196Z"
   },
   {
    "duration": 179,
    "start_time": "2025-04-05T08:13:17.233Z"
   },
   {
    "duration": 5,
    "start_time": "2025-04-05T08:13:17.414Z"
   },
   {
    "duration": 101,
    "start_time": "2025-04-05T08:13:17.430Z"
   },
   {
    "duration": 81,
    "start_time": "2025-04-05T08:13:17.533Z"
   },
   {
    "duration": 38,
    "start_time": "2025-04-05T08:13:17.616Z"
   },
   {
    "duration": 12,
    "start_time": "2025-04-05T08:13:17.656Z"
   },
   {
    "duration": 3,
    "start_time": "2025-04-05T08:13:17.669Z"
   },
   {
    "duration": 20,
    "start_time": "2025-04-05T08:13:17.674Z"
   },
   {
    "duration": 47,
    "start_time": "2025-04-05T08:13:17.696Z"
   },
   {
    "duration": 33,
    "start_time": "2025-04-05T08:13:17.745Z"
   },
   {
    "duration": 4,
    "start_time": "2025-04-05T08:13:17.780Z"
   },
   {
    "duration": 3,
    "start_time": "2025-04-05T08:13:17.786Z"
   },
   {
    "duration": 4,
    "start_time": "2025-04-05T08:13:17.791Z"
   },
   {
    "duration": 35,
    "start_time": "2025-04-05T08:13:17.796Z"
   },
   {
    "duration": 733,
    "start_time": "2025-04-05T08:13:17.832Z"
   },
   {
    "duration": 120,
    "start_time": "2025-04-05T08:13:18.567Z"
   },
   {
    "duration": 16,
    "start_time": "2025-04-05T08:13:18.689Z"
   },
   {
    "duration": 3,
    "start_time": "2025-04-05T08:13:18.707Z"
   },
   {
    "duration": 3,
    "start_time": "2025-04-05T08:13:18.711Z"
   },
   {
    "duration": 18,
    "start_time": "2025-04-05T08:13:18.716Z"
   },
   {
    "duration": 6,
    "start_time": "2025-04-05T08:13:18.738Z"
   },
   {
    "duration": 6,
    "start_time": "2025-04-05T08:13:18.746Z"
   },
   {
    "duration": 2,
    "start_time": "2025-04-05T08:13:18.753Z"
   },
   {
    "duration": 43,
    "start_time": "2025-04-05T08:13:18.756Z"
   },
   {
    "duration": 39,
    "start_time": "2025-04-05T08:13:18.801Z"
   },
   {
    "duration": 29,
    "start_time": "2025-04-05T08:13:18.842Z"
   },
   {
    "duration": 11,
    "start_time": "2025-04-05T08:13:18.873Z"
   },
   {
    "duration": 5,
    "start_time": "2025-04-05T08:13:18.885Z"
   },
   {
    "duration": 62,
    "start_time": "2025-04-05T08:13:18.892Z"
   },
   {
    "duration": 13,
    "start_time": "2025-04-05T08:13:18.956Z"
   },
   {
    "duration": 16,
    "start_time": "2025-04-05T08:13:18.971Z"
   },
   {
    "duration": 421,
    "start_time": "2025-04-05T08:15:25.590Z"
   },
   {
    "duration": 918,
    "start_time": "2025-04-05T08:15:26.013Z"
   },
   {
    "duration": 11,
    "start_time": "2025-04-05T08:15:26.933Z"
   },
   {
    "duration": 9,
    "start_time": "2025-04-05T08:15:26.945Z"
   },
   {
    "duration": 23,
    "start_time": "2025-04-05T08:15:26.957Z"
   },
   {
    "duration": 7,
    "start_time": "2025-04-05T08:15:26.982Z"
   },
   {
    "duration": 8,
    "start_time": "2025-04-05T08:15:26.991Z"
   },
   {
    "duration": 198,
    "start_time": "2025-04-05T08:15:27.001Z"
   },
   {
    "duration": 6,
    "start_time": "2025-04-05T08:15:27.201Z"
   },
   {
    "duration": 105,
    "start_time": "2025-04-05T08:15:27.208Z"
   },
   {
    "duration": 88,
    "start_time": "2025-04-05T08:15:27.315Z"
   },
   {
    "duration": 35,
    "start_time": "2025-04-05T08:15:27.405Z"
   },
   {
    "duration": 11,
    "start_time": "2025-04-05T08:15:27.443Z"
   },
   {
    "duration": 4,
    "start_time": "2025-04-05T08:15:27.458Z"
   },
   {
    "duration": 17,
    "start_time": "2025-04-05T08:15:27.463Z"
   },
   {
    "duration": 23,
    "start_time": "2025-04-05T08:15:27.482Z"
   },
   {
    "duration": 51,
    "start_time": "2025-04-05T08:15:27.507Z"
   },
   {
    "duration": 3,
    "start_time": "2025-04-05T08:15:27.560Z"
   },
   {
    "duration": 4,
    "start_time": "2025-04-05T08:15:27.565Z"
   },
   {
    "duration": 4,
    "start_time": "2025-04-05T08:15:27.570Z"
   },
   {
    "duration": 3,
    "start_time": "2025-04-05T08:15:27.576Z"
   },
   {
    "duration": 787,
    "start_time": "2025-04-05T08:15:27.581Z"
   },
   {
    "duration": 113,
    "start_time": "2025-04-05T08:15:28.370Z"
   },
   {
    "duration": 9,
    "start_time": "2025-04-05T08:15:28.485Z"
   },
   {
    "duration": 3,
    "start_time": "2025-04-05T08:15:28.495Z"
   },
   {
    "duration": 4,
    "start_time": "2025-04-05T08:15:28.499Z"
   },
   {
    "duration": 5,
    "start_time": "2025-04-05T08:15:28.504Z"
   },
   {
    "duration": 26,
    "start_time": "2025-04-05T08:15:28.511Z"
   },
   {
    "duration": 6,
    "start_time": "2025-04-05T08:15:28.538Z"
   },
   {
    "duration": 2,
    "start_time": "2025-04-05T08:15:28.546Z"
   },
   {
    "duration": 41,
    "start_time": "2025-04-05T08:15:28.550Z"
   },
   {
    "duration": 38,
    "start_time": "2025-04-05T08:15:28.593Z"
   },
   {
    "duration": 30,
    "start_time": "2025-04-05T08:15:28.633Z"
   },
   {
    "duration": 11,
    "start_time": "2025-04-05T08:15:28.665Z"
   },
   {
    "duration": 5,
    "start_time": "2025-04-05T08:15:28.678Z"
   },
   {
    "duration": 59,
    "start_time": "2025-04-05T08:15:28.686Z"
   },
   {
    "duration": 14,
    "start_time": "2025-04-05T08:15:28.747Z"
   },
   {
    "duration": 15,
    "start_time": "2025-04-05T08:15:28.763Z"
   },
   {
    "duration": 0,
    "start_time": "2025-04-05T08:18:48.707Z"
   },
   {
    "duration": 0,
    "start_time": "2025-04-05T08:18:48.708Z"
   },
   {
    "duration": 14,
    "start_time": "2025-04-05T08:19:44.980Z"
   },
   {
    "duration": 12,
    "start_time": "2025-04-05T08:19:53.348Z"
   },
   {
    "duration": 17,
    "start_time": "2025-04-05T08:19:54.711Z"
   },
   {
    "duration": 26,
    "start_time": "2025-04-05T08:22:00.256Z"
   },
   {
    "duration": 15,
    "start_time": "2025-04-05T08:23:07.093Z"
   },
   {
    "duration": 13,
    "start_time": "2025-04-05T08:24:49.826Z"
   },
   {
    "duration": 15,
    "start_time": "2025-04-05T08:24:53.850Z"
   },
   {
    "duration": 7100,
    "start_time": "2025-04-05T08:25:09.714Z"
   },
   {
    "duration": 15,
    "start_time": "2025-04-05T08:25:25.388Z"
   },
   {
    "duration": 9,
    "start_time": "2025-04-05T08:30:12.498Z"
   },
   {
    "duration": 4,
    "start_time": "2025-04-05T08:30:22.188Z"
   },
   {
    "duration": 25,
    "start_time": "2025-04-05T08:30:30.502Z"
   },
   {
    "duration": 14,
    "start_time": "2025-04-05T08:30:39.027Z"
   },
   {
    "duration": 13,
    "start_time": "2025-04-05T08:30:44.432Z"
   },
   {
    "duration": 16,
    "start_time": "2025-04-05T08:30:49.688Z"
   },
   {
    "duration": 15,
    "start_time": "2025-04-05T08:30:54.845Z"
   },
   {
    "duration": 17,
    "start_time": "2025-04-05T08:30:56.423Z"
   },
   {
    "duration": 14,
    "start_time": "2025-04-05T08:31:20.284Z"
   },
   {
    "duration": 25,
    "start_time": "2025-04-05T08:31:33.421Z"
   },
   {
    "duration": 15,
    "start_time": "2025-04-05T08:31:44.842Z"
   },
   {
    "duration": 19,
    "start_time": "2025-04-05T08:31:50.957Z"
   },
   {
    "duration": 13,
    "start_time": "2025-04-05T08:31:59.528Z"
   },
   {
    "duration": 161,
    "start_time": "2025-04-05T08:35:58.570Z"
   },
   {
    "duration": 20,
    "start_time": "2025-04-05T08:36:03.424Z"
   },
   {
    "duration": 461,
    "start_time": "2025-04-05T08:36:10.352Z"
   },
   {
    "duration": 1032,
    "start_time": "2025-04-05T08:36:10.815Z"
   },
   {
    "duration": 12,
    "start_time": "2025-04-05T08:36:11.848Z"
   },
   {
    "duration": 10,
    "start_time": "2025-04-05T08:36:11.861Z"
   },
   {
    "duration": 24,
    "start_time": "2025-04-05T08:36:11.873Z"
   },
   {
    "duration": 7,
    "start_time": "2025-04-05T08:36:11.899Z"
   },
   {
    "duration": 23,
    "start_time": "2025-04-05T08:36:11.909Z"
   },
   {
    "duration": 176,
    "start_time": "2025-04-05T08:36:11.934Z"
   },
   {
    "duration": 5,
    "start_time": "2025-04-05T08:36:12.111Z"
   },
   {
    "duration": 106,
    "start_time": "2025-04-05T08:36:12.118Z"
   },
   {
    "duration": 84,
    "start_time": "2025-04-05T08:36:12.232Z"
   },
   {
    "duration": 35,
    "start_time": "2025-04-05T08:36:12.317Z"
   },
   {
    "duration": 11,
    "start_time": "2025-04-05T08:36:12.354Z"
   },
   {
    "duration": 3,
    "start_time": "2025-04-05T08:36:12.368Z"
   },
   {
    "duration": 19,
    "start_time": "2025-04-05T08:36:12.373Z"
   },
   {
    "duration": 52,
    "start_time": "2025-04-05T08:36:12.394Z"
   },
   {
    "duration": 31,
    "start_time": "2025-04-05T08:36:12.447Z"
   },
   {
    "duration": 4,
    "start_time": "2025-04-05T08:36:12.479Z"
   },
   {
    "duration": 4,
    "start_time": "2025-04-05T08:36:12.484Z"
   },
   {
    "duration": 3,
    "start_time": "2025-04-05T08:36:12.490Z"
   },
   {
    "duration": 3,
    "start_time": "2025-04-05T08:36:12.495Z"
   },
   {
    "duration": 786,
    "start_time": "2025-04-05T08:36:12.501Z"
   },
   {
    "duration": 108,
    "start_time": "2025-04-05T08:36:13.289Z"
   },
   {
    "duration": 8,
    "start_time": "2025-04-05T08:36:13.399Z"
   },
   {
    "duration": 2,
    "start_time": "2025-04-05T08:36:13.409Z"
   },
   {
    "duration": 17,
    "start_time": "2025-04-05T08:36:13.413Z"
   },
   {
    "duration": 5,
    "start_time": "2025-04-05T08:36:13.432Z"
   },
   {
    "duration": 8,
    "start_time": "2025-04-05T08:36:13.439Z"
   },
   {
    "duration": 6,
    "start_time": "2025-04-05T08:36:13.448Z"
   },
   {
    "duration": 2,
    "start_time": "2025-04-05T08:36:13.455Z"
   },
   {
    "duration": 41,
    "start_time": "2025-04-05T08:36:13.459Z"
   },
   {
    "duration": 42,
    "start_time": "2025-04-05T08:36:13.502Z"
   },
   {
    "duration": 31,
    "start_time": "2025-04-05T08:36:13.546Z"
   },
   {
    "duration": 11,
    "start_time": "2025-04-05T08:36:13.579Z"
   },
   {
    "duration": 4,
    "start_time": "2025-04-05T08:36:13.592Z"
   },
   {
    "duration": 60,
    "start_time": "2025-04-05T08:36:13.598Z"
   },
   {
    "duration": 13,
    "start_time": "2025-04-05T08:36:13.659Z"
   },
   {
    "duration": 16,
    "start_time": "2025-04-05T08:36:13.674Z"
   },
   {
    "duration": 157,
    "start_time": "2025-04-05T08:38:48.741Z"
   },
   {
    "duration": 452,
    "start_time": "2025-04-05T08:38:52.639Z"
   },
   {
    "duration": 1062,
    "start_time": "2025-04-05T08:38:53.093Z"
   },
   {
    "duration": 12,
    "start_time": "2025-04-05T08:38:54.156Z"
   },
   {
    "duration": 10,
    "start_time": "2025-04-05T08:38:54.170Z"
   },
   {
    "duration": 23,
    "start_time": "2025-04-05T08:38:54.181Z"
   },
   {
    "duration": 28,
    "start_time": "2025-04-05T08:38:54.205Z"
   },
   {
    "duration": 8,
    "start_time": "2025-04-05T08:38:54.235Z"
   },
   {
    "duration": 181,
    "start_time": "2025-04-05T08:38:54.244Z"
   },
   {
    "duration": 7,
    "start_time": "2025-04-05T08:38:54.430Z"
   },
   {
    "duration": 100,
    "start_time": "2025-04-05T08:38:54.440Z"
   },
   {
    "duration": 82,
    "start_time": "2025-04-05T08:38:54.542Z"
   },
   {
    "duration": 27,
    "start_time": "2025-04-05T08:38:54.632Z"
   },
   {
    "duration": 13,
    "start_time": "2025-04-05T08:38:54.660Z"
   },
   {
    "duration": 4,
    "start_time": "2025-04-05T08:38:54.674Z"
   },
   {
    "duration": 18,
    "start_time": "2025-04-05T08:38:54.679Z"
   },
   {
    "duration": 45,
    "start_time": "2025-04-05T08:38:54.699Z"
   },
   {
    "duration": 29,
    "start_time": "2025-04-05T08:38:54.746Z"
   },
   {
    "duration": 3,
    "start_time": "2025-04-05T08:38:54.777Z"
   },
   {
    "duration": 4,
    "start_time": "2025-04-05T08:38:54.781Z"
   },
   {
    "duration": 4,
    "start_time": "2025-04-05T08:38:54.787Z"
   },
   {
    "duration": 3,
    "start_time": "2025-04-05T08:38:54.792Z"
   },
   {
    "duration": 755,
    "start_time": "2025-04-05T08:38:54.797Z"
   },
   {
    "duration": 108,
    "start_time": "2025-04-05T08:38:55.554Z"
   },
   {
    "duration": 9,
    "start_time": "2025-04-05T08:38:55.663Z"
   },
   {
    "duration": 3,
    "start_time": "2025-04-05T08:38:55.673Z"
   },
   {
    "duration": 3,
    "start_time": "2025-04-05T08:38:55.678Z"
   },
   {
    "duration": 5,
    "start_time": "2025-04-05T08:38:55.682Z"
   },
   {
    "duration": 7,
    "start_time": "2025-04-05T08:38:55.691Z"
   },
   {
    "duration": 31,
    "start_time": "2025-04-05T08:38:55.700Z"
   },
   {
    "duration": 3,
    "start_time": "2025-04-05T08:38:55.733Z"
   },
   {
    "duration": 42,
    "start_time": "2025-04-05T08:38:55.737Z"
   },
   {
    "duration": 15,
    "start_time": "2025-04-05T08:38:55.780Z"
   },
   {
    "duration": 56,
    "start_time": "2025-04-05T08:38:55.797Z"
   },
   {
    "duration": 11,
    "start_time": "2025-04-05T08:38:55.856Z"
   },
   {
    "duration": 4,
    "start_time": "2025-04-05T08:38:55.869Z"
   },
   {
    "duration": 58,
    "start_time": "2025-04-05T08:38:55.875Z"
   },
   {
    "duration": 14,
    "start_time": "2025-04-05T08:38:55.935Z"
   },
   {
    "duration": 16,
    "start_time": "2025-04-05T08:38:55.951Z"
   },
   {
    "duration": 56921,
    "start_time": "2025-04-05T08:38:55.968Z"
   },
   {
    "duration": 0,
    "start_time": "2025-04-05T08:39:52.897Z"
   },
   {
    "duration": 15,
    "start_time": "2025-04-05T08:41:29.433Z"
   },
   {
    "duration": 2532,
    "start_time": "2025-04-05T22:38:49.714Z"
   },
   {
    "duration": 1061,
    "start_time": "2025-04-05T22:38:55.448Z"
   },
   {
    "duration": 12,
    "start_time": "2025-04-05T22:38:57.134Z"
   },
   {
    "duration": 10,
    "start_time": "2025-04-05T22:38:57.719Z"
   },
   {
    "duration": 33,
    "start_time": "2025-04-05T22:38:58.152Z"
   },
   {
    "duration": 8,
    "start_time": "2025-04-05T22:38:58.623Z"
   },
   {
    "duration": 8,
    "start_time": "2025-04-05T22:38:58.932Z"
   },
   {
    "duration": 205,
    "start_time": "2025-04-05T22:39:01.150Z"
   },
   {
    "duration": 6,
    "start_time": "2025-04-05T22:39:06.929Z"
   },
   {
    "duration": 112,
    "start_time": "2025-04-05T22:39:09.780Z"
   },
   {
    "duration": 98,
    "start_time": "2025-04-05T22:39:10.252Z"
   },
   {
    "duration": 29,
    "start_time": "2025-04-05T22:39:10.380Z"
   },
   {
    "duration": 11,
    "start_time": "2025-04-05T22:39:10.891Z"
   },
   {
    "duration": 3,
    "start_time": "2025-04-05T22:39:11.107Z"
   },
   {
    "duration": 26,
    "start_time": "2025-04-05T22:39:11.252Z"
   },
   {
    "duration": 28,
    "start_time": "2025-04-05T22:39:11.373Z"
   },
   {
    "duration": 32,
    "start_time": "2025-04-05T22:39:11.692Z"
   },
   {
    "duration": 4,
    "start_time": "2025-04-05T22:39:12.064Z"
   },
   {
    "duration": 3,
    "start_time": "2025-04-05T22:39:12.250Z"
   },
   {
    "duration": 4,
    "start_time": "2025-04-05T22:39:12.744Z"
   },
   {
    "duration": 4,
    "start_time": "2025-04-05T22:39:13.048Z"
   },
   {
    "duration": 811,
    "start_time": "2025-04-05T22:39:13.431Z"
   },
   {
    "duration": 121,
    "start_time": "2025-04-05T22:39:14.245Z"
   },
   {
    "duration": 10,
    "start_time": "2025-04-05T22:39:14.470Z"
   },
   {
    "duration": 2,
    "start_time": "2025-04-05T22:39:14.705Z"
   },
   {
    "duration": 2,
    "start_time": "2025-04-05T22:39:14.889Z"
   },
   {
    "duration": 4,
    "start_time": "2025-04-05T22:39:15.221Z"
   },
   {
    "duration": 11,
    "start_time": "2025-04-05T22:39:15.546Z"
   },
   {
    "duration": 7,
    "start_time": "2025-04-05T22:39:16.052Z"
   },
   {
    "duration": 2,
    "start_time": "2025-04-05T22:39:16.220Z"
   },
   {
    "duration": 40,
    "start_time": "2025-04-05T22:39:16.396Z"
   },
   {
    "duration": 20,
    "start_time": "2025-04-05T22:39:16.929Z"
   },
   {
    "duration": 32,
    "start_time": "2025-04-05T22:39:17.105Z"
   },
   {
    "duration": 11,
    "start_time": "2025-04-05T22:39:17.393Z"
   },
   {
    "duration": 5,
    "start_time": "2025-04-05T22:39:17.567Z"
   },
   {
    "duration": 42,
    "start_time": "2025-04-05T22:39:17.907Z"
   },
   {
    "duration": 17,
    "start_time": "2025-04-05T22:40:28.058Z"
   },
   {
    "duration": 16,
    "start_time": "2025-04-05T22:40:29.025Z"
   },
   {
    "duration": 2318,
    "start_time": "2025-04-08T02:43:04.365Z"
   },
   {
    "duration": 1049,
    "start_time": "2025-04-08T02:43:06.685Z"
   },
   {
    "duration": 12,
    "start_time": "2025-04-08T02:43:09.174Z"
   },
   {
    "duration": 10,
    "start_time": "2025-04-08T02:43:10.307Z"
   },
   {
    "duration": 23,
    "start_time": "2025-04-08T02:43:10.943Z"
   },
   {
    "duration": 9,
    "start_time": "2025-04-08T02:43:11.418Z"
   },
   {
    "duration": 10,
    "start_time": "2025-04-08T02:43:11.829Z"
   },
   {
    "duration": 178,
    "start_time": "2025-04-08T02:43:13.472Z"
   },
   {
    "duration": 6,
    "start_time": "2025-04-08T02:43:13.876Z"
   },
   {
    "duration": 89,
    "start_time": "2025-04-08T02:43:14.233Z"
   },
   {
    "duration": 81,
    "start_time": "2025-04-08T02:43:14.418Z"
   },
   {
    "duration": 28,
    "start_time": "2025-04-08T02:43:14.602Z"
   },
   {
    "duration": 12,
    "start_time": "2025-04-08T02:43:15.123Z"
   },
   {
    "duration": 4,
    "start_time": "2025-04-08T02:43:15.296Z"
   },
   {
    "duration": 20,
    "start_time": "2025-04-08T02:43:15.456Z"
   },
   {
    "duration": 23,
    "start_time": "2025-04-08T02:43:15.641Z"
   },
   {
    "duration": 32,
    "start_time": "2025-04-08T02:43:15.813Z"
   },
   {
    "duration": 4,
    "start_time": "2025-04-08T02:43:16.288Z"
   },
   {
    "duration": 3,
    "start_time": "2025-04-08T02:43:16.524Z"
   },
   {
    "duration": 4,
    "start_time": "2025-04-08T02:43:17.067Z"
   },
   {
    "duration": 3,
    "start_time": "2025-04-08T02:43:17.229Z"
   },
   {
    "duration": 745,
    "start_time": "2025-04-08T02:43:17.732Z"
   },
   {
    "duration": 122,
    "start_time": "2025-04-08T02:43:18.479Z"
   },
   {
    "duration": 8,
    "start_time": "2025-04-08T02:43:20.552Z"
   },
   {
    "duration": 2,
    "start_time": "2025-04-08T02:43:21.574Z"
   },
   {
    "duration": 2,
    "start_time": "2025-04-08T02:43:22.470Z"
   },
   {
    "duration": 6,
    "start_time": "2025-04-08T02:43:23.258Z"
   },
   {
    "duration": 7,
    "start_time": "2025-04-08T02:43:23.981Z"
   },
   {
    "duration": 5,
    "start_time": "2025-04-08T02:43:24.619Z"
   },
   {
    "duration": 2,
    "start_time": "2025-04-08T02:43:24.798Z"
   },
   {
    "duration": 44,
    "start_time": "2025-04-08T02:43:24.969Z"
   },
   {
    "duration": 15,
    "start_time": "2025-04-08T02:43:26.233Z"
   },
   {
    "duration": 30,
    "start_time": "2025-04-08T02:43:26.446Z"
   },
   {
    "duration": 12,
    "start_time": "2025-04-08T02:43:27.289Z"
   },
   {
    "duration": 4,
    "start_time": "2025-04-08T02:43:27.450Z"
   },
   {
    "duration": 36,
    "start_time": "2025-04-08T02:43:28.573Z"
   },
   {
    "duration": 2153,
    "start_time": "2025-04-09T03:05:30.361Z"
   },
   {
    "duration": 2,
    "start_time": "2025-04-09T03:05:34.805Z"
   },
   {
    "duration": 1028,
    "start_time": "2025-04-09T03:05:35.364Z"
   },
   {
    "duration": 11,
    "start_time": "2025-04-09T03:05:37.647Z"
   },
   {
    "duration": 10,
    "start_time": "2025-04-09T03:05:39.062Z"
   },
   {
    "duration": 22,
    "start_time": "2025-04-09T03:05:40.289Z"
   },
   {
    "duration": 8,
    "start_time": "2025-04-09T03:05:41.021Z"
   },
   {
    "duration": 7,
    "start_time": "2025-04-09T03:05:41.668Z"
   },
   {
    "duration": 169,
    "start_time": "2025-04-09T03:05:43.995Z"
   },
   {
    "duration": 6,
    "start_time": "2025-04-09T03:05:44.462Z"
   },
   {
    "duration": 103,
    "start_time": "2025-04-09T03:05:45.031Z"
   },
   {
    "duration": 81,
    "start_time": "2025-04-09T03:05:45.203Z"
   },
   {
    "duration": 33,
    "start_time": "2025-04-09T03:05:45.380Z"
   },
   {
    "duration": 14,
    "start_time": "2025-04-09T03:05:46.423Z"
   },
   {
    "duration": 6,
    "start_time": "2025-04-09T03:05:46.592Z"
   },
   {
    "duration": 19,
    "start_time": "2025-04-09T03:05:46.756Z"
   },
   {
    "duration": 22,
    "start_time": "2025-04-09T03:05:46.912Z"
   },
   {
    "duration": 34,
    "start_time": "2025-04-09T03:05:47.087Z"
   },
   {
    "duration": 5,
    "start_time": "2025-04-09T03:05:47.552Z"
   },
   {
    "duration": 3,
    "start_time": "2025-04-09T03:05:47.716Z"
   },
   {
    "duration": 4,
    "start_time": "2025-04-09T03:05:48.192Z"
   },
   {
    "duration": 3,
    "start_time": "2025-04-09T03:05:48.349Z"
   },
   {
    "duration": 779,
    "start_time": "2025-04-09T03:05:49.450Z"
   },
   {
    "duration": 117,
    "start_time": "2025-04-09T03:05:50.231Z"
   },
   {
    "duration": 9,
    "start_time": "2025-04-09T03:05:51.604Z"
   },
   {
    "duration": 2,
    "start_time": "2025-04-09T03:05:52.157Z"
   },
   {
    "duration": 3,
    "start_time": "2025-04-09T03:05:52.392Z"
   },
   {
    "duration": 5,
    "start_time": "2025-04-09T03:05:52.692Z"
   },
   {
    "duration": 7,
    "start_time": "2025-04-09T03:05:55.689Z"
   },
   {
    "duration": 6,
    "start_time": "2025-04-09T03:05:59.398Z"
   },
   {
    "duration": 2,
    "start_time": "2025-04-09T03:06:00.305Z"
   },
   {
    "duration": 42,
    "start_time": "2025-04-09T03:06:01.369Z"
   },
   {
    "duration": 16,
    "start_time": "2025-04-09T03:06:03.794Z"
   },
   {
    "duration": 32,
    "start_time": "2025-04-09T03:06:04.235Z"
   },
   {
    "duration": 14,
    "start_time": "2025-04-09T03:06:05.338Z"
   },
   {
    "duration": 5,
    "start_time": "2025-04-09T03:06:05.814Z"
   },
   {
    "duration": 34,
    "start_time": "2025-04-09T03:06:06.723Z"
   },
   {
    "duration": 5,
    "start_time": "2025-04-09T03:21:01.074Z"
   },
   {
    "duration": 28,
    "start_time": "2025-04-09T03:21:19.010Z"
   },
   {
    "duration": 21,
    "start_time": "2025-04-09T03:21:46.094Z"
   },
   {
    "duration": 234,
    "start_time": "2025-04-09T04:22:48.232Z"
   },
   {
    "duration": 171,
    "start_time": "2025-04-09T04:25:14.314Z"
   },
   {
    "duration": 454,
    "start_time": "2025-04-09T04:25:18.849Z"
   },
   {
    "duration": 1071,
    "start_time": "2025-04-09T04:25:19.305Z"
   },
   {
    "duration": 12,
    "start_time": "2025-04-09T04:25:20.378Z"
   },
   {
    "duration": 10,
    "start_time": "2025-04-09T04:25:20.392Z"
   },
   {
    "duration": 29,
    "start_time": "2025-04-09T04:25:20.403Z"
   },
   {
    "duration": 8,
    "start_time": "2025-04-09T04:25:20.433Z"
   },
   {
    "duration": 8,
    "start_time": "2025-04-09T04:25:20.443Z"
   },
   {
    "duration": 194,
    "start_time": "2025-04-09T04:25:20.452Z"
   },
   {
    "duration": 7,
    "start_time": "2025-04-09T04:25:20.647Z"
   },
   {
    "duration": 106,
    "start_time": "2025-04-09T04:25:20.657Z"
   },
   {
    "duration": 95,
    "start_time": "2025-04-09T04:25:20.764Z"
   },
   {
    "duration": 28,
    "start_time": "2025-04-09T04:25:20.861Z"
   },
   {
    "duration": 22,
    "start_time": "2025-04-09T04:25:20.892Z"
   },
   {
    "duration": 3,
    "start_time": "2025-04-09T04:25:20.916Z"
   },
   {
    "duration": 18,
    "start_time": "2025-04-09T04:25:20.921Z"
   },
   {
    "duration": 22,
    "start_time": "2025-04-09T04:25:20.940Z"
   },
   {
    "duration": 56,
    "start_time": "2025-04-09T04:25:20.964Z"
   },
   {
    "duration": 3,
    "start_time": "2025-04-09T04:25:21.022Z"
   },
   {
    "duration": 4,
    "start_time": "2025-04-09T04:25:21.027Z"
   },
   {
    "duration": 3,
    "start_time": "2025-04-09T04:25:21.034Z"
   },
   {
    "duration": 3,
    "start_time": "2025-04-09T04:25:21.039Z"
   },
   {
    "duration": 772,
    "start_time": "2025-04-09T04:25:21.043Z"
   },
   {
    "duration": 130,
    "start_time": "2025-04-09T04:25:21.817Z"
   },
   {
    "duration": 10,
    "start_time": "2025-04-09T04:25:21.949Z"
   },
   {
    "duration": 2,
    "start_time": "2025-04-09T04:25:21.960Z"
   },
   {
    "duration": 3,
    "start_time": "2025-04-09T04:25:21.964Z"
   },
   {
    "duration": 5,
    "start_time": "2025-04-09T04:25:21.969Z"
   },
   {
    "duration": 7,
    "start_time": "2025-04-09T04:25:21.977Z"
   },
   {
    "duration": 6,
    "start_time": "2025-04-09T04:25:22.011Z"
   },
   {
    "duration": 2,
    "start_time": "2025-04-09T04:25:22.018Z"
   },
   {
    "duration": 40,
    "start_time": "2025-04-09T04:25:22.022Z"
   },
   {
    "duration": 17,
    "start_time": "2025-04-09T04:25:22.064Z"
   },
   {
    "duration": 55,
    "start_time": "2025-04-09T04:25:22.082Z"
   },
   {
    "duration": 12,
    "start_time": "2025-04-09T04:25:22.139Z"
   },
   {
    "duration": 5,
    "start_time": "2025-04-09T04:25:22.152Z"
   },
   {
    "duration": 56,
    "start_time": "2025-04-09T04:25:22.158Z"
   },
   {
    "duration": 25,
    "start_time": "2025-04-09T04:25:22.216Z"
   },
   {
    "duration": 22,
    "start_time": "2025-04-09T04:25:22.243Z"
   },
   {
    "duration": 443,
    "start_time": "2025-04-09T04:28:42.242Z"
   },
   {
    "duration": 1066,
    "start_time": "2025-04-09T04:28:43.361Z"
   },
   {
    "duration": 12,
    "start_time": "2025-04-09T04:28:44.429Z"
   },
   {
    "duration": 10,
    "start_time": "2025-04-09T04:28:44.442Z"
   },
   {
    "duration": 22,
    "start_time": "2025-04-09T04:28:44.574Z"
   },
   {
    "duration": 9,
    "start_time": "2025-04-09T04:28:44.882Z"
   },
   {
    "duration": 9,
    "start_time": "2025-04-09T04:28:45.220Z"
   },
   {
    "duration": 165,
    "start_time": "2025-04-09T04:28:46.617Z"
   },
   {
    "duration": 6,
    "start_time": "2025-04-09T04:28:46.956Z"
   },
   {
    "duration": 99,
    "start_time": "2025-04-09T04:28:47.307Z"
   },
   {
    "duration": 81,
    "start_time": "2025-04-09T04:28:47.487Z"
   },
   {
    "duration": 27,
    "start_time": "2025-04-09T04:28:47.668Z"
   },
   {
    "duration": 12,
    "start_time": "2025-04-09T04:28:48.210Z"
   },
   {
    "duration": 3,
    "start_time": "2025-04-09T04:28:48.385Z"
   },
   {
    "duration": 20,
    "start_time": "2025-04-09T04:28:48.566Z"
   },
   {
    "duration": 23,
    "start_time": "2025-04-09T04:28:48.749Z"
   },
   {
    "duration": 31,
    "start_time": "2025-04-09T04:28:48.927Z"
   },
   {
    "duration": 4,
    "start_time": "2025-04-09T04:28:49.434Z"
   },
   {
    "duration": 4,
    "start_time": "2025-04-09T04:28:49.604Z"
   },
   {
    "duration": 4,
    "start_time": "2025-04-09T04:28:50.125Z"
   },
   {
    "duration": 3,
    "start_time": "2025-04-09T04:28:50.750Z"
   },
   {
    "duration": 776,
    "start_time": "2025-04-09T04:28:51.535Z"
   },
   {
    "duration": 116,
    "start_time": "2025-04-09T04:28:52.313Z"
   },
   {
    "duration": 9,
    "start_time": "2025-04-09T04:28:52.480Z"
   },
   {
    "duration": 2,
    "start_time": "2025-04-09T04:28:53.073Z"
   },
   {
    "duration": 6,
    "start_time": "2025-04-09T04:28:53.236Z"
   },
   {
    "duration": 5,
    "start_time": "2025-04-09T04:28:53.590Z"
   },
   {
    "duration": 8,
    "start_time": "2025-04-09T04:28:53.943Z"
   },
   {
    "duration": 5,
    "start_time": "2025-04-09T04:28:54.502Z"
   },
   {
    "duration": 2,
    "start_time": "2025-04-09T04:28:54.682Z"
   },
   {
    "duration": 41,
    "start_time": "2025-04-09T04:28:54.837Z"
   },
   {
    "duration": 15,
    "start_time": "2025-04-09T04:28:55.405Z"
   },
   {
    "duration": 31,
    "start_time": "2025-04-09T04:28:55.581Z"
   },
   {
    "duration": 11,
    "start_time": "2025-04-09T04:28:55.977Z"
   },
   {
    "duration": 5,
    "start_time": "2025-04-09T04:28:56.172Z"
   },
   {
    "duration": 34,
    "start_time": "2025-04-09T04:28:56.519Z"
   },
   {
    "duration": 26,
    "start_time": "2025-04-09T04:28:59.335Z"
   },
   {
    "duration": 21,
    "start_time": "2025-04-09T04:29:00.238Z"
   },
   {
    "duration": 17,
    "start_time": "2025-04-09T04:30:42.180Z"
   },
   {
    "duration": 18,
    "start_time": "2025-04-09T04:31:03.020Z"
   },
   {
    "duration": 20,
    "start_time": "2025-04-09T04:31:09.961Z"
   },
   {
    "duration": 20,
    "start_time": "2025-04-09T04:31:21.387Z"
   },
   {
    "duration": 25,
    "start_time": "2025-04-09T04:31:34.863Z"
   },
   {
    "duration": 9,
    "start_time": "2025-04-09T04:31:59.132Z"
   },
   {
    "duration": 178,
    "start_time": "2025-04-09T04:32:35.436Z"
   },
   {
    "duration": 169,
    "start_time": "2025-04-09T04:32:49.680Z"
   },
   {
    "duration": 181,
    "start_time": "2025-04-09T04:39:04.117Z"
   },
   {
    "duration": 179,
    "start_time": "2025-04-09T04:59:10.995Z"
   },
   {
    "duration": 202,
    "start_time": "2025-04-09T05:01:07.969Z"
   },
   {
    "duration": 186,
    "start_time": "2025-04-09T05:02:08.689Z"
   },
   {
    "duration": 8,
    "start_time": "2025-04-09T05:09:02.873Z"
   },
   {
    "duration": 182,
    "start_time": "2025-04-09T05:18:51.029Z"
   },
   {
    "duration": 124,
    "start_time": "2025-04-09T05:19:48.893Z"
   },
   {
    "duration": 31,
    "start_time": "2025-04-09T05:26:18.575Z"
   },
   {
    "duration": 147,
    "start_time": "2025-04-09T05:34:14.464Z"
   },
   {
    "duration": 233,
    "start_time": "2025-04-09T05:37:03.896Z"
   },
   {
    "duration": 226,
    "start_time": "2025-04-09T05:37:23.670Z"
   },
   {
    "duration": 227,
    "start_time": "2025-04-09T05:37:29.964Z"
   },
   {
    "duration": 278,
    "start_time": "2025-04-09T05:38:14.550Z"
   },
   {
    "duration": 233,
    "start_time": "2025-04-09T05:38:25.984Z"
   },
   {
    "duration": 2205,
    "start_time": "2025-04-09T17:07:49.994Z"
   },
   {
    "duration": 1059,
    "start_time": "2025-04-09T17:07:52.957Z"
   },
   {
    "duration": 12,
    "start_time": "2025-04-09T17:07:54.071Z"
   },
   {
    "duration": 11,
    "start_time": "2025-04-09T17:07:54.701Z"
   },
   {
    "duration": 26,
    "start_time": "2025-04-09T17:07:55.448Z"
   },
   {
    "duration": 8,
    "start_time": "2025-04-09T17:07:56.206Z"
   },
   {
    "duration": 9,
    "start_time": "2025-04-09T17:07:56.553Z"
   },
   {
    "duration": 180,
    "start_time": "2025-04-09T17:07:57.703Z"
   },
   {
    "duration": 6,
    "start_time": "2025-04-09T17:07:58.107Z"
   },
   {
    "duration": 102,
    "start_time": "2025-04-09T17:07:58.484Z"
   },
   {
    "duration": 90,
    "start_time": "2025-04-09T17:07:58.654Z"
   },
   {
    "duration": 29,
    "start_time": "2025-04-09T17:07:58.805Z"
   },
   {
    "duration": 13,
    "start_time": "2025-04-09T17:07:59.334Z"
   },
   {
    "duration": 3,
    "start_time": "2025-04-09T17:07:59.741Z"
   },
   {
    "duration": 25,
    "start_time": "2025-04-09T17:07:59.990Z"
   },
   {
    "duration": 24,
    "start_time": "2025-04-09T17:08:00.117Z"
   },
   {
    "duration": 45,
    "start_time": "2025-04-09T17:08:00.375Z"
   },
   {
    "duration": 4,
    "start_time": "2025-04-09T17:08:04.399Z"
   },
   {
    "duration": 4,
    "start_time": "2025-04-09T17:08:05.226Z"
   },
   {
    "duration": 4,
    "start_time": "2025-04-09T17:08:09.313Z"
   },
   {
    "duration": 4,
    "start_time": "2025-04-09T17:08:15.957Z"
   },
   {
    "duration": 833,
    "start_time": "2025-04-09T17:08:23.963Z"
   },
   {
    "duration": 167,
    "start_time": "2025-04-09T17:08:25.344Z"
   },
   {
    "duration": 14,
    "start_time": "2025-04-09T17:08:28.308Z"
   },
   {
    "duration": 4,
    "start_time": "2025-04-09T17:08:30.836Z"
   },
   {
    "duration": 3,
    "start_time": "2025-04-09T17:08:45.991Z"
   },
   {
    "duration": 6,
    "start_time": "2025-04-09T17:08:48.960Z"
   },
   {
    "duration": 12,
    "start_time": "2025-04-09T17:08:50.139Z"
   },
   {
    "duration": 9,
    "start_time": "2025-04-09T17:08:51.968Z"
   },
   {
    "duration": 4,
    "start_time": "2025-04-09T17:08:52.736Z"
   },
   {
    "duration": 70,
    "start_time": "2025-04-09T17:08:54.006Z"
   },
   {
    "duration": 34,
    "start_time": "2025-04-09T17:08:55.997Z"
   },
   {
    "duration": 45,
    "start_time": "2025-04-09T17:08:56.444Z"
   },
   {
    "duration": 17,
    "start_time": "2025-04-09T17:08:57.357Z"
   },
   {
    "duration": 7,
    "start_time": "2025-04-09T17:08:57.926Z"
   },
   {
    "duration": 50,
    "start_time": "2025-04-09T17:08:59.343Z"
   },
   {
    "duration": 41,
    "start_time": "2025-04-09T17:09:03.641Z"
   },
   {
    "duration": 34,
    "start_time": "2025-04-09T17:09:04.327Z"
   },
   {
    "duration": 318,
    "start_time": "2025-04-09T17:10:27.146Z"
   },
   {
    "duration": 174,
    "start_time": "2025-04-09T17:10:31.520Z"
   },
   {
    "duration": 270,
    "start_time": "2025-04-09T17:11:22.820Z"
   },
   {
    "duration": 237,
    "start_time": "2025-04-09T17:11:39.687Z"
   },
   {
    "duration": 287,
    "start_time": "2025-04-09T17:11:51.638Z"
   },
   {
    "duration": 243,
    "start_time": "2025-04-09T17:12:58.214Z"
   },
   {
    "duration": 266,
    "start_time": "2025-04-09T18:03:34.691Z"
   },
   {
    "duration": 17,
    "start_time": "2025-04-09T18:03:42.196Z"
   },
   {
    "duration": 19,
    "start_time": "2025-04-09T18:03:55.109Z"
   },
   {
    "duration": 14,
    "start_time": "2025-04-09T18:35:57.336Z"
   },
   {
    "duration": 5,
    "start_time": "2025-04-09T18:36:04.081Z"
   },
   {
    "duration": 3,
    "start_time": "2025-04-09T18:38:32.425Z"
   },
   {
    "duration": 239,
    "start_time": "2025-04-09T18:38:54.038Z"
   },
   {
    "duration": 220,
    "start_time": "2025-04-09T18:40:38.015Z"
   },
   {
    "duration": 8,
    "start_time": "2025-04-09T18:59:42.846Z"
   },
   {
    "duration": 9,
    "start_time": "2025-04-09T18:59:56.124Z"
   },
   {
    "duration": 47,
    "start_time": "2025-04-09T19:03:48.592Z"
   },
   {
    "duration": 41,
    "start_time": "2025-04-09T19:05:08.847Z"
   },
   {
    "duration": 41,
    "start_time": "2025-04-09T19:05:39.223Z"
   },
   {
    "duration": 10,
    "start_time": "2025-04-09T19:07:50.614Z"
   },
   {
    "duration": 43,
    "start_time": "2025-04-09T19:15:52.416Z"
   },
   {
    "duration": 45,
    "start_time": "2025-04-09T19:16:54.395Z"
   },
   {
    "duration": 5,
    "start_time": "2025-04-09T19:17:32.608Z"
   },
   {
    "duration": 4,
    "start_time": "2025-04-09T19:17:48.965Z"
   },
   {
    "duration": 279,
    "start_time": "2025-04-09T19:17:51.851Z"
   },
   {
    "duration": 56,
    "start_time": "2025-04-09T19:18:00.466Z"
   },
   {
    "duration": 1005,
    "start_time": "2025-04-09T19:19:01.259Z"
   },
   {
    "duration": 225,
    "start_time": "2025-04-09T19:21:03.335Z"
   },
   {
    "duration": 114,
    "start_time": "2025-04-09T19:28:36.136Z"
   },
   {
    "duration": 115,
    "start_time": "2025-04-09T19:28:59.526Z"
   },
   {
    "duration": 1103,
    "start_time": "2025-04-09T19:29:10.047Z"
   },
   {
    "duration": 119,
    "start_time": "2025-04-09T19:29:24.283Z"
   },
   {
    "duration": 263,
    "start_time": "2025-04-09T19:29:44.043Z"
   },
   {
    "duration": 330,
    "start_time": "2025-04-09T19:30:03.548Z"
   },
   {
    "duration": 196,
    "start_time": "2025-04-09T19:30:16.077Z"
   },
   {
    "duration": 50,
    "start_time": "2025-04-09T19:32:01.653Z"
   },
   {
    "duration": 41,
    "start_time": "2025-04-09T19:32:07.040Z"
   },
   {
    "duration": 41,
    "start_time": "2025-04-09T19:32:32.834Z"
   },
   {
    "duration": 40,
    "start_time": "2025-04-09T19:36:16.878Z"
   },
   {
    "duration": 40,
    "start_time": "2025-04-09T19:36:41.626Z"
   },
   {
    "duration": 38,
    "start_time": "2025-04-09T19:38:28.836Z"
   },
   {
    "duration": 122,
    "start_time": "2025-04-09T19:40:34.209Z"
   },
   {
    "duration": 3,
    "start_time": "2025-04-09T20:01:26.228Z"
   },
   {
    "duration": 98,
    "start_time": "2025-04-09T20:01:54.600Z"
   },
   {
    "duration": 363,
    "start_time": "2025-04-09T20:02:05.243Z"
   },
   {
    "duration": 110,
    "start_time": "2025-04-09T20:02:22.246Z"
   },
   {
    "duration": 87,
    "start_time": "2025-04-09T20:08:47.804Z"
   },
   {
    "duration": 90,
    "start_time": "2025-04-09T20:08:57.524Z"
   },
   {
    "duration": 92,
    "start_time": "2025-04-09T20:09:53.731Z"
   },
   {
    "duration": 73,
    "start_time": "2025-04-09T20:42:23.260Z"
   },
   {
    "duration": 71,
    "start_time": "2025-04-09T20:43:31.614Z"
   },
   {
    "duration": 6,
    "start_time": "2025-04-09T20:44:00.591Z"
   },
   {
    "duration": 11,
    "start_time": "2025-04-09T20:45:48.940Z"
   },
   {
    "duration": 2655,
    "start_time": "2025-04-10T16:07:34.941Z"
   },
   {
    "duration": 1234,
    "start_time": "2025-04-10T16:07:39.188Z"
   },
   {
    "duration": 15,
    "start_time": "2025-04-10T16:07:47.288Z"
   },
   {
    "duration": 14,
    "start_time": "2025-04-10T16:07:47.849Z"
   },
   {
    "duration": 31,
    "start_time": "2025-04-10T16:07:48.416Z"
   },
   {
    "duration": 10,
    "start_time": "2025-04-10T16:07:48.972Z"
   },
   {
    "duration": 9,
    "start_time": "2025-04-10T16:07:49.179Z"
   },
   {
    "duration": 195,
    "start_time": "2025-04-10T16:07:50.163Z"
   },
   {
    "duration": 7,
    "start_time": "2025-04-10T16:07:50.487Z"
   },
   {
    "duration": 109,
    "start_time": "2025-04-10T16:07:50.790Z"
   },
   {
    "duration": 96,
    "start_time": "2025-04-10T16:07:50.965Z"
   },
   {
    "duration": 41,
    "start_time": "2025-04-10T16:07:51.134Z"
   },
   {
    "duration": 17,
    "start_time": "2025-04-10T16:07:52.266Z"
   },
   {
    "duration": 4,
    "start_time": "2025-04-10T16:07:52.436Z"
   },
   {
    "duration": 19,
    "start_time": "2025-04-10T16:07:52.602Z"
   },
   {
    "duration": 27,
    "start_time": "2025-04-10T16:07:52.816Z"
   },
   {
    "duration": 32,
    "start_time": "2025-04-10T16:07:52.987Z"
   },
   {
    "duration": 4,
    "start_time": "2025-04-10T16:07:53.491Z"
   },
   {
    "duration": 4,
    "start_time": "2025-04-10T16:07:53.647Z"
   },
   {
    "duration": 4,
    "start_time": "2025-04-10T16:07:54.233Z"
   },
   {
    "duration": 3,
    "start_time": "2025-04-10T16:07:54.401Z"
   },
   {
    "duration": 940,
    "start_time": "2025-04-10T16:07:54.980Z"
   },
   {
    "duration": 162,
    "start_time": "2025-04-10T16:07:55.931Z"
   },
   {
    "duration": 11,
    "start_time": "2025-04-10T16:07:56.169Z"
   },
   {
    "duration": 2,
    "start_time": "2025-04-10T16:07:56.509Z"
   },
   {
    "duration": 3,
    "start_time": "2025-04-10T16:07:56.853Z"
   },
   {
    "duration": 5,
    "start_time": "2025-04-10T16:07:57.210Z"
   },
   {
    "duration": 9,
    "start_time": "2025-04-10T16:07:57.555Z"
   },
   {
    "duration": 7,
    "start_time": "2025-04-10T16:07:58.045Z"
   },
   {
    "duration": 2,
    "start_time": "2025-04-10T16:07:58.192Z"
   },
   {
    "duration": 47,
    "start_time": "2025-04-10T16:07:58.362Z"
   },
   {
    "duration": 19,
    "start_time": "2025-04-10T16:07:58.873Z"
   },
   {
    "duration": 44,
    "start_time": "2025-04-10T16:07:59.062Z"
   },
   {
    "duration": 11,
    "start_time": "2025-04-10T16:07:59.409Z"
   },
   {
    "duration": 5,
    "start_time": "2025-04-10T16:07:59.612Z"
   },
   {
    "duration": 36,
    "start_time": "2025-04-10T16:07:59.972Z"
   },
   {
    "duration": 28,
    "start_time": "2025-04-10T16:08:01.793Z"
   },
   {
    "duration": 22,
    "start_time": "2025-04-10T16:08:01.987Z"
   },
   {
    "duration": 286,
    "start_time": "2025-04-10T16:08:02.534Z"
   },
   {
    "duration": 186,
    "start_time": "2025-04-10T16:08:03.026Z"
   },
   {
    "duration": 303,
    "start_time": "2025-04-10T16:08:03.661Z"
   },
   {
    "duration": 14,
    "start_time": "2025-04-10T16:08:04.411Z"
   },
   {
    "duration": 5,
    "start_time": "2025-04-10T16:08:04.602Z"
   },
   {
    "duration": 4,
    "start_time": "2025-04-10T16:08:05.187Z"
   },
   {
    "duration": 290,
    "start_time": "2025-04-10T16:08:05.429Z"
   },
   {
    "duration": 50,
    "start_time": "2025-04-10T16:08:08.537Z"
   },
   {
    "duration": 130,
    "start_time": "2025-04-10T16:08:09.288Z"
   },
   {
    "duration": 96,
    "start_time": "2025-04-10T16:08:11.737Z"
   },
   {
    "duration": 6,
    "start_time": "2025-04-10T16:08:12.249Z"
   },
   {
    "duration": 14,
    "start_time": "2025-04-10T16:08:12.837Z"
   },
   {
    "duration": 197,
    "start_time": "2025-04-10T17:22:51.826Z"
   },
   {
    "duration": 362,
    "start_time": "2025-04-10T17:22:55.804Z"
   },
   {
    "duration": 5,
    "start_time": "2025-04-10T17:23:19.530Z"
   },
   {
    "duration": 520,
    "start_time": "2025-04-10T17:23:27.280Z"
   },
   {
    "duration": 290,
    "start_time": "2025-04-10T17:23:40.504Z"
   },
   {
    "duration": 280,
    "start_time": "2025-04-10T17:23:59.297Z"
   },
   {
    "duration": 268,
    "start_time": "2025-04-10T17:24:10.333Z"
   },
   {
    "duration": 6,
    "start_time": "2025-04-10T17:29:59.376Z"
   },
   {
    "duration": 4,
    "start_time": "2025-04-10T17:30:41.587Z"
   },
   {
    "duration": 249,
    "start_time": "2025-04-10T17:30:47.038Z"
   },
   {
    "duration": 270,
    "start_time": "2025-04-10T17:30:54.527Z"
   },
   {
    "duration": 278,
    "start_time": "2025-04-10T17:32:25.178Z"
   },
   {
    "duration": 302,
    "start_time": "2025-04-10T17:34:30.303Z"
   },
   {
    "duration": 143,
    "start_time": "2025-04-10T18:03:14.676Z"
   },
   {
    "duration": 198,
    "start_time": "2025-04-10T18:05:08.940Z"
   },
   {
    "duration": 193,
    "start_time": "2025-04-10T18:05:14.257Z"
   },
   {
    "duration": 282,
    "start_time": "2025-04-10T18:05:24.893Z"
   },
   {
    "duration": 299,
    "start_time": "2025-04-10T18:16:41.760Z"
   },
   {
    "duration": 351,
    "start_time": "2025-04-10T18:17:08.517Z"
   },
   {
    "duration": 4,
    "start_time": "2025-04-10T18:18:17.717Z"
   },
   {
    "duration": 4,
    "start_time": "2025-04-10T18:19:20.006Z"
   },
   {
    "duration": 4,
    "start_time": "2025-04-10T18:19:26.048Z"
   },
   {
    "duration": 13,
    "start_time": "2025-04-10T18:33:29.705Z"
   },
   {
    "duration": 13,
    "start_time": "2025-04-10T18:34:17.816Z"
   },
   {
    "duration": 3,
    "start_time": "2025-04-10T18:35:23.142Z"
   },
   {
    "duration": 3,
    "start_time": "2025-04-10T18:35:58.842Z"
   },
   {
    "duration": 302,
    "start_time": "2025-04-10T18:39:06.698Z"
   },
   {
    "duration": 49,
    "start_time": "2025-04-10T18:39:30.227Z"
   },
   {
    "duration": 4,
    "start_time": "2025-04-10T18:40:02.343Z"
   },
   {
    "duration": 201,
    "start_time": "2025-04-10T18:41:02.335Z"
   },
   {
    "duration": 3,
    "start_time": "2025-04-10T18:41:04.511Z"
   },
   {
    "duration": 20,
    "start_time": "2025-04-10T18:41:06.305Z"
   },
   {
    "duration": 50,
    "start_time": "2025-04-10T18:41:21.441Z"
   },
   {
    "duration": 4,
    "start_time": "2025-04-10T18:41:22.720Z"
   },
   {
    "duration": 19,
    "start_time": "2025-04-10T18:41:25.959Z"
   },
   {
    "duration": 62,
    "start_time": "2025-04-10T18:45:29.489Z"
   },
   {
    "duration": 61,
    "start_time": "2025-04-10T18:45:42.188Z"
   },
   {
    "duration": 997,
    "start_time": "2025-04-10T18:47:46.554Z"
   },
   {
    "duration": 7,
    "start_time": "2025-04-10T18:48:13.035Z"
   },
   {
    "duration": 535,
    "start_time": "2025-04-10T18:48:21.748Z"
   },
   {
    "duration": 69,
    "start_time": "2025-04-10T18:48:46.359Z"
   },
   {
    "duration": 54,
    "start_time": "2025-04-10T18:48:47.359Z"
   },
   {
    "duration": 56,
    "start_time": "2025-04-10T18:48:52.536Z"
   },
   {
    "duration": 32,
    "start_time": "2025-04-10T18:49:25.640Z"
   },
   {
    "duration": 4,
    "start_time": "2025-04-10T18:50:37.657Z"
   },
   {
    "duration": 53,
    "start_time": "2025-04-10T18:53:13.926Z"
   },
   {
    "duration": 30,
    "start_time": "2025-04-10T18:53:28.303Z"
   },
   {
    "duration": 11,
    "start_time": "2025-04-10T18:54:54.298Z"
   },
   {
    "duration": 5,
    "start_time": "2025-04-10T18:55:29.976Z"
   },
   {
    "duration": 312,
    "start_time": "2025-04-10T18:55:41.197Z"
   },
   {
    "duration": 55,
    "start_time": "2025-04-10T18:55:44.774Z"
   },
   {
    "duration": 30,
    "start_time": "2025-04-10T18:55:46.303Z"
   },
   {
    "duration": 9,
    "start_time": "2025-04-10T18:55:47.383Z"
   },
   {
    "duration": 5,
    "start_time": "2025-04-10T18:55:50.224Z"
   },
   {
    "duration": 117,
    "start_time": "2025-04-10T19:23:32.240Z"
   },
   {
    "duration": 119,
    "start_time": "2025-04-10T19:24:00.688Z"
   },
   {
    "duration": 56,
    "start_time": "2025-04-10T19:24:13.303Z"
   },
   {
    "duration": 69,
    "start_time": "2025-04-10T19:24:15.719Z"
   },
   {
    "duration": 56,
    "start_time": "2025-04-10T19:25:10.136Z"
   },
   {
    "duration": 108,
    "start_time": "2025-04-10T19:25:17.672Z"
   },
   {
    "duration": 135,
    "start_time": "2025-04-10T19:25:53.261Z"
   },
   {
    "duration": 13,
    "start_time": "2025-04-10T19:28:16.051Z"
   },
   {
    "duration": 141,
    "start_time": "2025-04-10T19:28:21.441Z"
   },
   {
    "duration": 15,
    "start_time": "2025-04-10T19:28:23.175Z"
   },
   {
    "duration": 4,
    "start_time": "2025-04-10T19:28:40.971Z"
   },
   {
    "duration": 12,
    "start_time": "2025-04-10T19:28:43.024Z"
   },
   {
    "duration": 3,
    "start_time": "2025-04-10T19:29:01.976Z"
   },
   {
    "duration": 67,
    "start_time": "2025-04-10T19:30:54.000Z"
   },
   {
    "duration": 141,
    "start_time": "2025-04-10T19:31:37.257Z"
   },
   {
    "duration": 5,
    "start_time": "2025-04-10T19:31:38.676Z"
   },
   {
    "duration": 3,
    "start_time": "2025-04-10T19:31:40.223Z"
   },
   {
    "duration": 4,
    "start_time": "2025-04-10T19:31:48.353Z"
   },
   {
    "duration": 7,
    "start_time": "2025-04-10T19:32:17.520Z"
   },
   {
    "duration": 5,
    "start_time": "2025-04-10T19:41:51.861Z"
   },
   {
    "duration": 476,
    "start_time": "2025-04-10T19:41:56.368Z"
   },
   {
    "duration": 216,
    "start_time": "2025-04-10T19:43:37.472Z"
   },
   {
    "duration": 498,
    "start_time": "2025-04-10T19:46:01.873Z"
   },
   {
    "duration": 369,
    "start_time": "2025-04-10T19:47:22.767Z"
   },
   {
    "duration": 4,
    "start_time": "2025-04-10T19:48:59.777Z"
   },
   {
    "duration": 125,
    "start_time": "2025-04-10T19:49:10.157Z"
   },
   {
    "duration": 666,
    "start_time": "2025-04-10T19:49:16.118Z"
   },
   {
    "duration": 7,
    "start_time": "2025-04-10T20:04:01.565Z"
   },
   {
    "duration": 6,
    "start_time": "2025-04-10T20:05:31.045Z"
   },
   {
    "duration": 4,
    "start_time": "2025-04-10T20:05:44.905Z"
   },
   {
    "duration": 4,
    "start_time": "2025-04-10T20:09:55.536Z"
   },
   {
    "duration": 19,
    "start_time": "2025-04-10T20:17:01.893Z"
   },
   {
    "duration": 23,
    "start_time": "2025-04-10T20:17:11.567Z"
   },
   {
    "duration": 7,
    "start_time": "2025-04-10T20:18:09.958Z"
   },
   {
    "duration": 9,
    "start_time": "2025-04-10T20:19:32.518Z"
   },
   {
    "duration": 6,
    "start_time": "2025-04-10T20:20:34.306Z"
   }
  ],
  "colab": {
   "provenance": []
  },
  "kernelspec": {
   "display_name": "Python 3 (ipykernel)",
   "language": "python",
   "name": "python3"
  },
  "language_info": {
   "codemirror_mode": {
    "name": "ipython",
    "version": 3
   },
   "file_extension": ".py",
   "mimetype": "text/x-python",
   "name": "python",
   "nbconvert_exporter": "python",
   "pygments_lexer": "ipython3",
   "version": "3.9.19"
  },
  "toc": {
   "base_numbering": 1,
   "nav_menu": {},
   "number_sections": true,
   "sideBar": true,
   "skip_h1_title": true,
   "title_cell": "Table of Contents",
   "title_sidebar": "Contents",
   "toc_cell": false,
   "toc_position": {},
   "toc_section_display": true,
   "toc_window_display": false
  },
  "vscode": {
   "interpreter": {
    "hash": "01a7be9ec63e704a62cefc5fe7a4756944464ee731be31632bdf42a4cb4688cf"
   }
  }
 },
 "nbformat": 4,
 "nbformat_minor": 5
}
